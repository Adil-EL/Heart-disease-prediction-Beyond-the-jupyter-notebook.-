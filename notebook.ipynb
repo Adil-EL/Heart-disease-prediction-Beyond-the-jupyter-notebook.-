{
  "cells": [
    {
      "cell_type": "code",
      "execution_count": 1,
      "id": "b9e2474e",
      "metadata": {
        "id": "b9e2474e"
      },
      "outputs": [],
      "source": [
        "# Chargement et étude rapide du jeu de données\n",
        "import numpy as np\n",
        "import pandas as pd\n",
        "import matplotlib.pyplot as plt\n",
        "import seaborn as sns\n",
        "\n",
        "from sklearn.model_selection import train_test_split\n",
        "from sklearn.neighbors import KNeighborsClassifier\n",
        "from sklearn.metrics import accuracy_score\n",
        "\n",
        "\n",
        "from sklearn.preprocessing import StandardScaler\n",
        "\n",
        "from sklearn.model_selection import cross_val_score\n",
        "import statistics\n",
        "\n",
        "from sklearn.metrics import confusion_matrix"
      ]
    },
    {
      "cell_type": "code",
      "execution_count": 2,
      "id": "ab2f5a55",
      "metadata": {
        "id": "ab2f5a55"
      },
      "outputs": [],
      "source": [
        "import warnings\n",
        "warnings.filterwarnings('ignore')"
      ]
    },
    {
      "cell_type": "code",
      "execution_count": 3,
      "id": "8b8dc27a",
      "metadata": {
        "colab": {
          "background_save": true,
          "base_uri": "https://localhost:8080/",
          "height": 387
        },
        "id": "8b8dc27a",
        "outputId": "8fbb252f-3b1f-4b93-9bdc-e9ba5fceb901"
      },
      "outputs": [
        {
          "data": {
            "text/html": [
              "<div>\n",
              "<style scoped>\n",
              "    .dataframe tbody tr th:only-of-type {\n",
              "        vertical-align: middle;\n",
              "    }\n",
              "\n",
              "    .dataframe tbody tr th {\n",
              "        vertical-align: top;\n",
              "    }\n",
              "\n",
              "    .dataframe thead th {\n",
              "        text-align: right;\n",
              "    }\n",
              "</style>\n",
              "<table border=\"1\" class=\"dataframe\">\n",
              "  <thead>\n",
              "    <tr style=\"text-align: right;\">\n",
              "      <th></th>\n",
              "      <th>0</th>\n",
              "      <th>1</th>\n",
              "      <th>2</th>\n",
              "      <th>3</th>\n",
              "      <th>4</th>\n",
              "      <th>5</th>\n",
              "      <th>6</th>\n",
              "      <th>7</th>\n",
              "      <th>8</th>\n",
              "      <th>9</th>\n",
              "      <th>10</th>\n",
              "      <th>11</th>\n",
              "      <th>12</th>\n",
              "      <th>13</th>\n",
              "    </tr>\n",
              "  </thead>\n",
              "  <tbody>\n",
              "    <tr>\n",
              "      <th>0</th>\n",
              "      <td>70.0</td>\n",
              "      <td>1.0</td>\n",
              "      <td>4.0</td>\n",
              "      <td>130.0</td>\n",
              "      <td>322.0</td>\n",
              "      <td>0.0</td>\n",
              "      <td>2.0</td>\n",
              "      <td>109.0</td>\n",
              "      <td>0.0</td>\n",
              "      <td>2.4</td>\n",
              "      <td>2.0</td>\n",
              "      <td>3.0</td>\n",
              "      <td>3.0</td>\n",
              "      <td>2</td>\n",
              "    </tr>\n",
              "    <tr>\n",
              "      <th>1</th>\n",
              "      <td>67.0</td>\n",
              "      <td>0.0</td>\n",
              "      <td>3.0</td>\n",
              "      <td>115.0</td>\n",
              "      <td>564.0</td>\n",
              "      <td>0.0</td>\n",
              "      <td>2.0</td>\n",
              "      <td>160.0</td>\n",
              "      <td>0.0</td>\n",
              "      <td>1.6</td>\n",
              "      <td>2.0</td>\n",
              "      <td>0.0</td>\n",
              "      <td>7.0</td>\n",
              "      <td>1</td>\n",
              "    </tr>\n",
              "    <tr>\n",
              "      <th>2</th>\n",
              "      <td>57.0</td>\n",
              "      <td>1.0</td>\n",
              "      <td>2.0</td>\n",
              "      <td>124.0</td>\n",
              "      <td>261.0</td>\n",
              "      <td>0.0</td>\n",
              "      <td>0.0</td>\n",
              "      <td>141.0</td>\n",
              "      <td>0.0</td>\n",
              "      <td>0.3</td>\n",
              "      <td>1.0</td>\n",
              "      <td>0.0</td>\n",
              "      <td>7.0</td>\n",
              "      <td>2</td>\n",
              "    </tr>\n",
              "    <tr>\n",
              "      <th>3</th>\n",
              "      <td>64.0</td>\n",
              "      <td>1.0</td>\n",
              "      <td>4.0</td>\n",
              "      <td>128.0</td>\n",
              "      <td>263.0</td>\n",
              "      <td>0.0</td>\n",
              "      <td>0.0</td>\n",
              "      <td>105.0</td>\n",
              "      <td>1.0</td>\n",
              "      <td>0.2</td>\n",
              "      <td>2.0</td>\n",
              "      <td>1.0</td>\n",
              "      <td>7.0</td>\n",
              "      <td>1</td>\n",
              "    </tr>\n",
              "    <tr>\n",
              "      <th>4</th>\n",
              "      <td>74.0</td>\n",
              "      <td>0.0</td>\n",
              "      <td>2.0</td>\n",
              "      <td>120.0</td>\n",
              "      <td>269.0</td>\n",
              "      <td>0.0</td>\n",
              "      <td>2.0</td>\n",
              "      <td>121.0</td>\n",
              "      <td>1.0</td>\n",
              "      <td>0.2</td>\n",
              "      <td>1.0</td>\n",
              "      <td>1.0</td>\n",
              "      <td>3.0</td>\n",
              "      <td>1</td>\n",
              "    </tr>\n",
              "    <tr>\n",
              "      <th>...</th>\n",
              "      <td>...</td>\n",
              "      <td>...</td>\n",
              "      <td>...</td>\n",
              "      <td>...</td>\n",
              "      <td>...</td>\n",
              "      <td>...</td>\n",
              "      <td>...</td>\n",
              "      <td>...</td>\n",
              "      <td>...</td>\n",
              "      <td>...</td>\n",
              "      <td>...</td>\n",
              "      <td>...</td>\n",
              "      <td>...</td>\n",
              "      <td>...</td>\n",
              "    </tr>\n",
              "    <tr>\n",
              "      <th>265</th>\n",
              "      <td>52.0</td>\n",
              "      <td>1.0</td>\n",
              "      <td>3.0</td>\n",
              "      <td>172.0</td>\n",
              "      <td>199.0</td>\n",
              "      <td>1.0</td>\n",
              "      <td>0.0</td>\n",
              "      <td>162.0</td>\n",
              "      <td>0.0</td>\n",
              "      <td>0.5</td>\n",
              "      <td>1.0</td>\n",
              "      <td>0.0</td>\n",
              "      <td>7.0</td>\n",
              "      <td>1</td>\n",
              "    </tr>\n",
              "    <tr>\n",
              "      <th>266</th>\n",
              "      <td>44.0</td>\n",
              "      <td>1.0</td>\n",
              "      <td>2.0</td>\n",
              "      <td>120.0</td>\n",
              "      <td>263.0</td>\n",
              "      <td>0.0</td>\n",
              "      <td>0.0</td>\n",
              "      <td>173.0</td>\n",
              "      <td>0.0</td>\n",
              "      <td>0.0</td>\n",
              "      <td>1.0</td>\n",
              "      <td>0.0</td>\n",
              "      <td>7.0</td>\n",
              "      <td>1</td>\n",
              "    </tr>\n",
              "    <tr>\n",
              "      <th>267</th>\n",
              "      <td>56.0</td>\n",
              "      <td>0.0</td>\n",
              "      <td>2.0</td>\n",
              "      <td>140.0</td>\n",
              "      <td>294.0</td>\n",
              "      <td>0.0</td>\n",
              "      <td>2.0</td>\n",
              "      <td>153.0</td>\n",
              "      <td>0.0</td>\n",
              "      <td>1.3</td>\n",
              "      <td>2.0</td>\n",
              "      <td>0.0</td>\n",
              "      <td>3.0</td>\n",
              "      <td>1</td>\n",
              "    </tr>\n",
              "    <tr>\n",
              "      <th>268</th>\n",
              "      <td>57.0</td>\n",
              "      <td>1.0</td>\n",
              "      <td>4.0</td>\n",
              "      <td>140.0</td>\n",
              "      <td>192.0</td>\n",
              "      <td>0.0</td>\n",
              "      <td>0.0</td>\n",
              "      <td>148.0</td>\n",
              "      <td>0.0</td>\n",
              "      <td>0.4</td>\n",
              "      <td>2.0</td>\n",
              "      <td>0.0</td>\n",
              "      <td>6.0</td>\n",
              "      <td>1</td>\n",
              "    </tr>\n",
              "    <tr>\n",
              "      <th>269</th>\n",
              "      <td>67.0</td>\n",
              "      <td>1.0</td>\n",
              "      <td>4.0</td>\n",
              "      <td>160.0</td>\n",
              "      <td>286.0</td>\n",
              "      <td>0.0</td>\n",
              "      <td>2.0</td>\n",
              "      <td>108.0</td>\n",
              "      <td>1.0</td>\n",
              "      <td>1.5</td>\n",
              "      <td>2.0</td>\n",
              "      <td>3.0</td>\n",
              "      <td>3.0</td>\n",
              "      <td>2</td>\n",
              "    </tr>\n",
              "  </tbody>\n",
              "</table>\n",
              "<p>270 rows × 14 columns</p>\n",
              "</div>"
            ],
            "text/plain": [
              "       0    1    2      3      4    5    6      7    8    9    10   11   12  \\\n",
              "0    70.0  1.0  4.0  130.0  322.0  0.0  2.0  109.0  0.0  2.4  2.0  3.0  3.0   \n",
              "1    67.0  0.0  3.0  115.0  564.0  0.0  2.0  160.0  0.0  1.6  2.0  0.0  7.0   \n",
              "2    57.0  1.0  2.0  124.0  261.0  0.0  0.0  141.0  0.0  0.3  1.0  0.0  7.0   \n",
              "3    64.0  1.0  4.0  128.0  263.0  0.0  0.0  105.0  1.0  0.2  2.0  1.0  7.0   \n",
              "4    74.0  0.0  2.0  120.0  269.0  0.0  2.0  121.0  1.0  0.2  1.0  1.0  3.0   \n",
              "..    ...  ...  ...    ...    ...  ...  ...    ...  ...  ...  ...  ...  ...   \n",
              "265  52.0  1.0  3.0  172.0  199.0  1.0  0.0  162.0  0.0  0.5  1.0  0.0  7.0   \n",
              "266  44.0  1.0  2.0  120.0  263.0  0.0  0.0  173.0  0.0  0.0  1.0  0.0  7.0   \n",
              "267  56.0  0.0  2.0  140.0  294.0  0.0  2.0  153.0  0.0  1.3  2.0  0.0  3.0   \n",
              "268  57.0  1.0  4.0  140.0  192.0  0.0  0.0  148.0  0.0  0.4  2.0  0.0  6.0   \n",
              "269  67.0  1.0  4.0  160.0  286.0  0.0  2.0  108.0  1.0  1.5  2.0  3.0  3.0   \n",
              "\n",
              "     13  \n",
              "0     2  \n",
              "1     1  \n",
              "2     2  \n",
              "3     1  \n",
              "4     1  \n",
              "..   ..  \n",
              "265   1  \n",
              "266   1  \n",
              "267   1  \n",
              "268   1  \n",
              "269   2  \n",
              "\n",
              "[270 rows x 14 columns]"
            ]
          },
          "execution_count": 3,
          "metadata": {},
          "output_type": "execute_result"
        }
      ],
      "source": [
        "data = pd.read_table(\"heart.dat\", sep=\"\\s+\", header=None)\n",
        "data"
      ]
    },
    {
      "cell_type": "markdown",
      "id": "c5c9946f",
      "metadata": {
        "id": "c5c9946f"
      },
      "source": [
        "Attribute Information:\n",
        "------------------------\n",
        "      -- 1. age       \n",
        "      -- 2. sex       \n",
        "      -- 3. chest pain type  (4 values)       \n",
        "      -- 4. resting blood pressure  \n",
        "      -- 5. serum cholestoral in mg/dl      \n",
        "      -- 6. fasting blood sugar > 120 mg/dl       \n",
        "      -- 7. resting electrocardiographic results  (values 0,1,2) \n",
        "      -- 8. maximum heart rate achieved  \n",
        "      -- 9. exercise induced angina    \n",
        "      -- 10. oldpeak = ST depression induced by exercise relative to rest   \n",
        "      -- 11. the slope of the peak exercise ST segment     \n",
        "      -- 12. number of major vessels (0-3) colored by flourosopy        \n",
        "      -- 13.  thal: 3 = normal; 6 = fixed defect; 7 = reversable defect     \n",
        "-- Absence (1), or presence (2) of heart disease"
      ]
    },
    {
      "cell_type": "code",
      "execution_count": 4,
      "id": "eeb1ec3a",
      "metadata": {
        "id": "eeb1ec3a"
      },
      "outputs": [
        {
          "data": {
            "text/plain": [
              "age                                     0\n",
              "sex                                     0\n",
              "chest_pain_type                         0\n",
              "resting_blood_pressure                  0\n",
              "serum_cholestoral                       0\n",
              "fasting_blood_sugar                     0\n",
              "resting_electrocardiographic_results    0\n",
              "maximum_heart_rate_achieved             0\n",
              "exercise_induced_angina                 0\n",
              "oldpeak                                 0\n",
              "slope                                   0\n",
              "number_of_major_vessels                 0\n",
              "thal                                    0\n",
              "label                                   0\n",
              "dtype: int64"
            ]
          },
          "execution_count": 4,
          "metadata": {},
          "output_type": "execute_result"
        }
      ],
      "source": [
        "# Renommer les colonnes et regarder les données manquantes (il n'y en a pas)\n",
        "data.columns = ['age','sex','chest_pain_type','resting_blood_pressure','serum_cholestoral','fasting_blood_sugar',\n",
        "'resting_electrocardiographic_results','maximum_heart_rate_achieved','exercise_induced_angina','oldpeak',\n",
        "'slope','number_of_major_vessels','thal','label']\n",
        "data.isnull().sum()"
      ]
    },
    {
      "cell_type": "markdown",
      "id": "7b8a1d47",
      "metadata": {},
      "source": [
        "Nous remarquons l'abscence des valeurs nulles pour toutes nos variables"
      ]
    },
    {
      "cell_type": "code",
      "execution_count": 5,
      "id": "70c91318",
      "metadata": {
        "id": "70c91318"
      },
      "outputs": [
        {
          "name": "stdout",
          "output_type": "stream",
          "text": [
            "(270, 14)\n"
          ]
        },
        {
          "data": {
            "text/html": [
              "<div>\n",
              "<style scoped>\n",
              "    .dataframe tbody tr th:only-of-type {\n",
              "        vertical-align: middle;\n",
              "    }\n",
              "\n",
              "    .dataframe tbody tr th {\n",
              "        vertical-align: top;\n",
              "    }\n",
              "\n",
              "    .dataframe thead th {\n",
              "        text-align: right;\n",
              "    }\n",
              "</style>\n",
              "<table border=\"1\" class=\"dataframe\">\n",
              "  <thead>\n",
              "    <tr style=\"text-align: right;\">\n",
              "      <th></th>\n",
              "      <th>age</th>\n",
              "      <th>sex</th>\n",
              "      <th>chest_pain_type</th>\n",
              "      <th>resting_blood_pressure</th>\n",
              "      <th>serum_cholestoral</th>\n",
              "      <th>fasting_blood_sugar</th>\n",
              "      <th>resting_electrocardiographic_results</th>\n",
              "      <th>maximum_heart_rate_achieved</th>\n",
              "      <th>exercise_induced_angina</th>\n",
              "      <th>oldpeak</th>\n",
              "      <th>slope</th>\n",
              "      <th>number_of_major_vessels</th>\n",
              "      <th>thal</th>\n",
              "      <th>label</th>\n",
              "    </tr>\n",
              "  </thead>\n",
              "  <tbody>\n",
              "    <tr>\n",
              "      <th>0</th>\n",
              "      <td>70.0</td>\n",
              "      <td>1.0</td>\n",
              "      <td>4.0</td>\n",
              "      <td>130.0</td>\n",
              "      <td>322.0</td>\n",
              "      <td>0.0</td>\n",
              "      <td>2.0</td>\n",
              "      <td>109.0</td>\n",
              "      <td>0.0</td>\n",
              "      <td>2.4</td>\n",
              "      <td>2.0</td>\n",
              "      <td>3.0</td>\n",
              "      <td>3.0</td>\n",
              "      <td>2</td>\n",
              "    </tr>\n",
              "    <tr>\n",
              "      <th>1</th>\n",
              "      <td>67.0</td>\n",
              "      <td>0.0</td>\n",
              "      <td>3.0</td>\n",
              "      <td>115.0</td>\n",
              "      <td>564.0</td>\n",
              "      <td>0.0</td>\n",
              "      <td>2.0</td>\n",
              "      <td>160.0</td>\n",
              "      <td>0.0</td>\n",
              "      <td>1.6</td>\n",
              "      <td>2.0</td>\n",
              "      <td>0.0</td>\n",
              "      <td>7.0</td>\n",
              "      <td>1</td>\n",
              "    </tr>\n",
              "    <tr>\n",
              "      <th>2</th>\n",
              "      <td>57.0</td>\n",
              "      <td>1.0</td>\n",
              "      <td>2.0</td>\n",
              "      <td>124.0</td>\n",
              "      <td>261.0</td>\n",
              "      <td>0.0</td>\n",
              "      <td>0.0</td>\n",
              "      <td>141.0</td>\n",
              "      <td>0.0</td>\n",
              "      <td>0.3</td>\n",
              "      <td>1.0</td>\n",
              "      <td>0.0</td>\n",
              "      <td>7.0</td>\n",
              "      <td>2</td>\n",
              "    </tr>\n",
              "    <tr>\n",
              "      <th>3</th>\n",
              "      <td>64.0</td>\n",
              "      <td>1.0</td>\n",
              "      <td>4.0</td>\n",
              "      <td>128.0</td>\n",
              "      <td>263.0</td>\n",
              "      <td>0.0</td>\n",
              "      <td>0.0</td>\n",
              "      <td>105.0</td>\n",
              "      <td>1.0</td>\n",
              "      <td>0.2</td>\n",
              "      <td>2.0</td>\n",
              "      <td>1.0</td>\n",
              "      <td>7.0</td>\n",
              "      <td>1</td>\n",
              "    </tr>\n",
              "    <tr>\n",
              "      <th>4</th>\n",
              "      <td>74.0</td>\n",
              "      <td>0.0</td>\n",
              "      <td>2.0</td>\n",
              "      <td>120.0</td>\n",
              "      <td>269.0</td>\n",
              "      <td>0.0</td>\n",
              "      <td>2.0</td>\n",
              "      <td>121.0</td>\n",
              "      <td>1.0</td>\n",
              "      <td>0.2</td>\n",
              "      <td>1.0</td>\n",
              "      <td>1.0</td>\n",
              "      <td>3.0</td>\n",
              "      <td>1</td>\n",
              "    </tr>\n",
              "    <tr>\n",
              "      <th>...</th>\n",
              "      <td>...</td>\n",
              "      <td>...</td>\n",
              "      <td>...</td>\n",
              "      <td>...</td>\n",
              "      <td>...</td>\n",
              "      <td>...</td>\n",
              "      <td>...</td>\n",
              "      <td>...</td>\n",
              "      <td>...</td>\n",
              "      <td>...</td>\n",
              "      <td>...</td>\n",
              "      <td>...</td>\n",
              "      <td>...</td>\n",
              "      <td>...</td>\n",
              "    </tr>\n",
              "    <tr>\n",
              "      <th>265</th>\n",
              "      <td>52.0</td>\n",
              "      <td>1.0</td>\n",
              "      <td>3.0</td>\n",
              "      <td>172.0</td>\n",
              "      <td>199.0</td>\n",
              "      <td>1.0</td>\n",
              "      <td>0.0</td>\n",
              "      <td>162.0</td>\n",
              "      <td>0.0</td>\n",
              "      <td>0.5</td>\n",
              "      <td>1.0</td>\n",
              "      <td>0.0</td>\n",
              "      <td>7.0</td>\n",
              "      <td>1</td>\n",
              "    </tr>\n",
              "    <tr>\n",
              "      <th>266</th>\n",
              "      <td>44.0</td>\n",
              "      <td>1.0</td>\n",
              "      <td>2.0</td>\n",
              "      <td>120.0</td>\n",
              "      <td>263.0</td>\n",
              "      <td>0.0</td>\n",
              "      <td>0.0</td>\n",
              "      <td>173.0</td>\n",
              "      <td>0.0</td>\n",
              "      <td>0.0</td>\n",
              "      <td>1.0</td>\n",
              "      <td>0.0</td>\n",
              "      <td>7.0</td>\n",
              "      <td>1</td>\n",
              "    </tr>\n",
              "    <tr>\n",
              "      <th>267</th>\n",
              "      <td>56.0</td>\n",
              "      <td>0.0</td>\n",
              "      <td>2.0</td>\n",
              "      <td>140.0</td>\n",
              "      <td>294.0</td>\n",
              "      <td>0.0</td>\n",
              "      <td>2.0</td>\n",
              "      <td>153.0</td>\n",
              "      <td>0.0</td>\n",
              "      <td>1.3</td>\n",
              "      <td>2.0</td>\n",
              "      <td>0.0</td>\n",
              "      <td>3.0</td>\n",
              "      <td>1</td>\n",
              "    </tr>\n",
              "    <tr>\n",
              "      <th>268</th>\n",
              "      <td>57.0</td>\n",
              "      <td>1.0</td>\n",
              "      <td>4.0</td>\n",
              "      <td>140.0</td>\n",
              "      <td>192.0</td>\n",
              "      <td>0.0</td>\n",
              "      <td>0.0</td>\n",
              "      <td>148.0</td>\n",
              "      <td>0.0</td>\n",
              "      <td>0.4</td>\n",
              "      <td>2.0</td>\n",
              "      <td>0.0</td>\n",
              "      <td>6.0</td>\n",
              "      <td>1</td>\n",
              "    </tr>\n",
              "    <tr>\n",
              "      <th>269</th>\n",
              "      <td>67.0</td>\n",
              "      <td>1.0</td>\n",
              "      <td>4.0</td>\n",
              "      <td>160.0</td>\n",
              "      <td>286.0</td>\n",
              "      <td>0.0</td>\n",
              "      <td>2.0</td>\n",
              "      <td>108.0</td>\n",
              "      <td>1.0</td>\n",
              "      <td>1.5</td>\n",
              "      <td>2.0</td>\n",
              "      <td>3.0</td>\n",
              "      <td>3.0</td>\n",
              "      <td>2</td>\n",
              "    </tr>\n",
              "  </tbody>\n",
              "</table>\n",
              "<p>270 rows × 14 columns</p>\n",
              "</div>"
            ],
            "text/plain": [
              "      age  sex  chest_pain_type  resting_blood_pressure  serum_cholestoral  \\\n",
              "0    70.0  1.0              4.0                   130.0              322.0   \n",
              "1    67.0  0.0              3.0                   115.0              564.0   \n",
              "2    57.0  1.0              2.0                   124.0              261.0   \n",
              "3    64.0  1.0              4.0                   128.0              263.0   \n",
              "4    74.0  0.0              2.0                   120.0              269.0   \n",
              "..    ...  ...              ...                     ...                ...   \n",
              "265  52.0  1.0              3.0                   172.0              199.0   \n",
              "266  44.0  1.0              2.0                   120.0              263.0   \n",
              "267  56.0  0.0              2.0                   140.0              294.0   \n",
              "268  57.0  1.0              4.0                   140.0              192.0   \n",
              "269  67.0  1.0              4.0                   160.0              286.0   \n",
              "\n",
              "     fasting_blood_sugar  resting_electrocardiographic_results  \\\n",
              "0                    0.0                                   2.0   \n",
              "1                    0.0                                   2.0   \n",
              "2                    0.0                                   0.0   \n",
              "3                    0.0                                   0.0   \n",
              "4                    0.0                                   2.0   \n",
              "..                   ...                                   ...   \n",
              "265                  1.0                                   0.0   \n",
              "266                  0.0                                   0.0   \n",
              "267                  0.0                                   2.0   \n",
              "268                  0.0                                   0.0   \n",
              "269                  0.0                                   2.0   \n",
              "\n",
              "     maximum_heart_rate_achieved  exercise_induced_angina  oldpeak  slope  \\\n",
              "0                          109.0                      0.0      2.4    2.0   \n",
              "1                          160.0                      0.0      1.6    2.0   \n",
              "2                          141.0                      0.0      0.3    1.0   \n",
              "3                          105.0                      1.0      0.2    2.0   \n",
              "4                          121.0                      1.0      0.2    1.0   \n",
              "..                           ...                      ...      ...    ...   \n",
              "265                        162.0                      0.0      0.5    1.0   \n",
              "266                        173.0                      0.0      0.0    1.0   \n",
              "267                        153.0                      0.0      1.3    2.0   \n",
              "268                        148.0                      0.0      0.4    2.0   \n",
              "269                        108.0                      1.0      1.5    2.0   \n",
              "\n",
              "     number_of_major_vessels  thal  label  \n",
              "0                        3.0   3.0      2  \n",
              "1                        0.0   7.0      1  \n",
              "2                        0.0   7.0      2  \n",
              "3                        1.0   7.0      1  \n",
              "4                        1.0   3.0      1  \n",
              "..                       ...   ...    ...  \n",
              "265                      0.0   7.0      1  \n",
              "266                      0.0   7.0      1  \n",
              "267                      0.0   3.0      1  \n",
              "268                      0.0   6.0      1  \n",
              "269                      3.0   3.0      2  \n",
              "\n",
              "[270 rows x 14 columns]"
            ]
          },
          "execution_count": 5,
          "metadata": {},
          "output_type": "execute_result"
        }
      ],
      "source": [
        "print(data.shape)\n",
        "data"
      ]
    },
    {
      "cell_type": "code",
      "execution_count": 6,
      "id": "833412d4",
      "metadata": {
        "id": "833412d4"
      },
      "outputs": [
        {
          "name": "stdout",
          "output_type": "stream",
          "text": [
            "1    150\n",
            "2    120\n",
            "Name: label, dtype: int64\n"
          ]
        },
        {
          "data": {
            "text/plain": [
              "<AxesSubplot:xlabel='count', ylabel='label'>"
            ]
          },
          "execution_count": 6,
          "metadata": {},
          "output_type": "execute_result"
        },
        {
          "data": {
            "image/png": "[encoded data removed]",
            "text/plain": [
              "<Figure size 432x288 with 1 Axes>"
            ]
          },
          "metadata": {
            "needs_background": "light"
          },
          "output_type": "display_data"
        }
      ],
      "source": [
        "# Répartition graphique des réponses\n",
        "print(data.label.value_counts())\n",
        "sns.countplot(y=\"label\", data=data)"
      ]
    },
    {
      "cell_type": "markdown",
      "id": "699c80b3",
      "metadata": {},
      "source": [
        "Nous obersvons que nos données, ne sont pas équilibrées, en effet ceux qui souffrent d'un problème cardiaque sont moins nombreux par rapport aux personnes saines.\n",
        "Il faut prendre cette situation dans l'échantillonage de données et le choix de la métrique."
      ]
    },
    {
      "cell_type": "code",
      "execution_count": 7,
      "id": "a1ab81c1",
      "metadata": {
        "id": "a1ab81c1",
        "scrolled": true
      },
      "outputs": [
        {
          "data": {
            "text/plain": [
              "<AxesSubplot:xlabel='label', ylabel='maximum_heart_rate_achieved'>"
            ]
          },
          "execution_count": 7,
          "metadata": {},
          "output_type": "execute_result"
        },
        {
          "data": {
            "image/png": "[encoded data removed]",
            "text/plain": [
              "<Figure size 1800x360 with 4 Axes>"
            ]
          },
          "metadata": {
            "needs_background": "light"
          },
          "output_type": "display_data"
        }
      ],
      "source": [
        "# Répartition graphique des exemples sur un tableau récapitulatif de qlq variables\n",
        "plt.figure(figsize=(25,5))\n",
        "plt.subplot(1,4,1)\n",
        "sns.boxplot(x='label',y='age',data=data)\n",
        "plt.subplot(1,4,2)\n",
        "sns.boxplot(x='label',y='resting_blood_pressure',data=data)\n",
        "plt.subplot(1,4,3)\n",
        "sns.boxplot(x='label',y='serum_cholestoral',data=data)\n",
        "plt.subplot(1,4,4)\n",
        "sns.boxplot(x='label',y='maximum_heart_rate_achieved',data=data)"
      ]
    },
    {
      "cell_type": "markdown",
      "id": "76d3d0cf",
      "metadata": {},
      "source": [
        "Pour les variables quantitatives ci-dessus, nous observons la présence de quelques points abbérants "
      ]
    },
    {
      "cell_type": "code",
      "execution_count": 8,
      "id": "65da882f",
      "metadata": {
        "id": "65da882f"
      },
      "outputs": [
        {
          "data": {
            "text/plain": [
              "<AxesSubplot:>"
            ]
          },
          "execution_count": 8,
          "metadata": {},
          "output_type": "execute_result"
        },
        {
          "data": {
            "image/png": "[encoded data removed]",
            "text/plain": [
              "<Figure size 792x648 with 2 Axes>"
            ]
          },
          "metadata": {
            "needs_background": "light"
          },
          "output_type": "display_data"
        }
      ],
      "source": [
        "# Matrice de corrélations\n",
        "data_corr = data.corr()\n",
        "\n",
        "# masque triangulaire\n",
        "mask = np.triu(np.ones_like(data_corr, dtype=bool))\n",
        "\n",
        "# matplolib setup\n",
        "f, ax = plt.subplots(figsize=(11, 9))\n",
        "\n",
        "# matrice de corrélation avec masque trinagulaire inférieur\n",
        "sns.heatmap(data_corr, mask=mask, cmap = 'mako', center=0, square=True)"
      ]
    },
    {
      "cell_type": "code",
      "execution_count": 8,
      "id": "7d668c47",
      "metadata": {
        "id": "7d668c47"
      },
      "outputs": [],
      "source": [
        "X = data[data.columns[:-1]]\n",
        "y = data[data.columns[-1:]]"
      ]
    },
    {
      "cell_type": "markdown",
      "id": "6f4e4c50",
      "metadata": {},
      "source": [
        "D'abord, nous allons importer les modules et et classes que nous allons utiliser pour notre démarche."
      ]
    },
    {
      "cell_type": "code",
      "execution_count": 9,
      "id": "75dc9ff0",
      "metadata": {},
      "outputs": [
        {
          "data": {
            "text/plain": [
              "0.7407407407407407"
            ]
          },
          "execution_count": 9,
          "metadata": {},
          "output_type": "execute_result"
        }
      ],
      "source": [
        "from sklearn.svm import SVC\n",
        "from sklearn.preprocessing import StandardScaler\n",
        "from sklearn.model_selection import train_test_split\n",
        "from sklearn.pipeline import Pipeline\n",
        "\n",
        "X_train, X_test, y_train, y_test = train_test_split(X, y,train_size= 0.80,random_state=0)\n",
        "pipe = Pipeline([('scaler', StandardScaler()), ('svc', SVC())])\n",
        "pipe.fit(X_train, y_train)\n",
        "Pipeline(steps=[('scaler', StandardScaler()), ('svc', SVC())])\n",
        "pipe.score(X_test, y_test)"
      ]
    },
    {
      "cell_type": "markdown",
      "id": "930f246c",
      "metadata": {},
      "source": [
        "Dans cette étape et avant toute manipulation, je vais séparer mes données sur trois groupes : un groupe pour l'apprentissage des paramètres (training_set), un groupe pour le choix des hypèr-paramètres (validation_ste) et un groupe pour tester la performance globale du modèle.\n"
      ]
    },
    {
      "cell_type": "code",
      "execution_count": 35,
      "id": "cd276369",
      "metadata": {},
      "outputs": [],
      "source": [
        "X_train_val, X_test, y_train_val, y_test = train_test_split(X, y,train_size= 0.80,random_state=0)\n"
      ]
    },
    {
      "cell_type": "markdown",
      "id": "8cfbcc68",
      "metadata": {},
      "source": [
        "L'échelle des variables peut impacter négativement la performance de mon modèle, c'est pour cela que je vais définir une étape de transformation de données (normalisation) avant d'alimenter la data au modèle."
      ]
    },
    {
      "cell_type": "code",
      "execution_count": 36,
      "id": "2037b559",
      "metadata": {},
      "outputs": [
        {
          "data": {
            "text/plain": [
              "StandardScaler()"
            ]
          },
          "execution_count": 36,
          "metadata": {},
          "output_type": "execute_result"
        }
      ],
      "source": [
        "scaler= StandardScaler()\n",
        "scaler.fit(X_train_val)"
      ]
    },
    {
      "cell_type": "markdown",
      "id": "1009beb5",
      "metadata": {},
      "source": [
        "et puis nous allons transformer nos données d'entrainement, de validation et de test"
      ]
    },
    {
      "cell_type": "code",
      "execution_count": 37,
      "id": "33b8576c",
      "metadata": {},
      "outputs": [],
      "source": [
        "X_train_val = scaler.transform(X_train_val)\n",
        "X_test = scaler.transform(X_test)"
      ]
    },
    {
      "cell_type": "markdown",
      "id": "54ea0000",
      "metadata": {},
      "source": [
        "Entrainemnt du modèle et choix des hypère-paramètres : utilisation de la validation croisée avec GridSearch pour le choix des hyper-paramètres"
      ]
    },
    {
      "cell_type": "code",
      "execution_count": 45,
      "id": "c23e6444",
      "metadata": {},
      "outputs": [],
      "source": [
        "from sklearn.metrics import confusion_matrix\n",
        "\n",
        "def my_score(y_true,y_pred):\n",
        "    cm = confusion_matrix(y_true,y_pred)\n",
        "    tp = cm[0,0]\n",
        "    tn = cm[1,1]\n",
        "    fp = cm[1,0]\n",
        "    fn = cm[0,1]\n",
        "    acc = (tn + tp) / (tn + tp + fp + (fn*5))\n",
        "\n",
        "    return acc"
      ]
    },
    {
      "cell_type": "code",
      "execution_count": 46,
      "id": "01b7c72b",
      "metadata": {},
      "outputs": [],
      "source": [
        "from sklearn.metrics import  make_scorer\n",
        "my_scorer = make_scorer(my_score)\n"
      ]
    },
    {
      "cell_type": "code",
      "execution_count": 40,
      "id": "2a4a80a3",
      "metadata": {},
      "outputs": [
        {
          "name": "stdout",
          "output_type": "stream",
          "text": [
            "# Tuning hyper-parameters for precision\n",
            "\n",
            "Best parameters set found on development set:\n",
            "\n",
            "{'C': 10, 'degree': 3, 'kernel': 'poly'}\n",
            "\n",
            "Grid scores on development set:\n",
            "\n",
            "0.948 (+/-0.017) for {'C': 1, 'gamma': 0.001, 'kernel': 'rbf'}\n",
            "0.583 (+/-0.101) for {'C': 1, 'gamma': 0.0001, 'kernel': 'rbf'}\n",
            "0.982 (+/-0.015) for {'C': 10, 'gamma': 0.001, 'kernel': 'rbf'}\n",
            "0.948 (+/-0.019) for {'C': 10, 'gamma': 0.0001, 'kernel': 'rbf'}\n",
            "0.985 (+/-0.009) for {'C': 100, 'gamma': 0.001, 'kernel': 'rbf'}\n",
            "0.980 (+/-0.015) for {'C': 100, 'gamma': 0.0001, 'kernel': 'rbf'}\n",
            "0.982 (+/-0.012) for {'C': 1000, 'gamma': 0.001, 'kernel': 'rbf'}\n",
            "0.979 (+/-0.008) for {'C': 1000, 'gamma': 0.0001, 'kernel': 'rbf'}\n",
            "0.974 (+/-0.014) for {'C': 1, 'kernel': 'linear'}\n",
            "0.974 (+/-0.014) for {'C': 10, 'kernel': 'linear'}\n",
            "0.974 (+/-0.014) for {'C': 100, 'kernel': 'linear'}\n",
            "0.974 (+/-0.014) for {'C': 1000, 'kernel': 'linear'}\n",
            "0.980 (+/-0.011) for {'C': 1, 'degree': 1, 'kernel': 'poly'}\n",
            "0.976 (+/-0.012) for {'C': 1, 'degree': 2, 'kernel': 'poly'}\n",
            "0.963 (+/-0.013) for {'C': 1, 'degree': 3, 'kernel': 'poly'}\n",
            "0.885 (+/-0.031) for {'C': 1, 'degree': 6, 'kernel': 'poly'}\n",
            "0.979 (+/-0.008) for {'C': 10, 'degree': 1, 'kernel': 'poly'}\n",
            "0.985 (+/-0.011) for {'C': 10, 'degree': 2, 'kernel': 'poly'}\n",
            "0.989 (+/-0.013) for {'C': 10, 'degree': 3, 'kernel': 'poly'}\n",
            "0.925 (+/-0.017) for {'C': 10, 'degree': 6, 'kernel': 'poly'}\n",
            "0.974 (+/-0.014) for {'C': 100, 'degree': 1, 'kernel': 'poly'}\n",
            "0.985 (+/-0.011) for {'C': 100, 'degree': 2, 'kernel': 'poly'}\n",
            "0.989 (+/-0.012) for {'C': 100, 'degree': 3, 'kernel': 'poly'}\n",
            "0.945 (+/-0.011) for {'C': 100, 'degree': 6, 'kernel': 'poly'}\n",
            "0.974 (+/-0.014) for {'C': 1000, 'degree': 1, 'kernel': 'poly'}\n",
            "0.985 (+/-0.011) for {'C': 1000, 'degree': 2, 'kernel': 'poly'}\n",
            "0.989 (+/-0.012) for {'C': 1000, 'degree': 3, 'kernel': 'poly'}\n",
            "0.946 (+/-0.012) for {'C': 1000, 'degree': 6, 'kernel': 'poly'}\n",
            "\n",
            "Detailed classification report:\n",
            "\n",
            "The model is trained on the full development set.\n",
            "The scores are computed on the full evaluation set.\n",
            "\n",
            "# Tuning hyper-parameters for recall\n",
            "\n",
            "Best parameters set found on development set:\n",
            "\n",
            "{'C': 10, 'degree': 3, 'kernel': 'poly'}\n",
            "\n",
            "Grid scores on development set:\n",
            "\n",
            "0.946 (+/-0.017) for {'C': 1, 'gamma': 0.001, 'kernel': 'rbf'}\n",
            "0.488 (+/-0.047) for {'C': 1, 'gamma': 0.0001, 'kernel': 'rbf'}\n",
            "0.982 (+/-0.016) for {'C': 10, 'gamma': 0.001, 'kernel': 'rbf'}\n",
            "0.946 (+/-0.022) for {'C': 10, 'gamma': 0.0001, 'kernel': 'rbf'}\n",
            "0.984 (+/-0.010) for {'C': 100, 'gamma': 0.001, 'kernel': 'rbf'}\n",
            "0.979 (+/-0.015) for {'C': 100, 'gamma': 0.0001, 'kernel': 'rbf'}\n",
            "0.981 (+/-0.013) for {'C': 1000, 'gamma': 0.001, 'kernel': 'rbf'}\n",
            "0.978 (+/-0.008) for {'C': 1000, 'gamma': 0.0001, 'kernel': 'rbf'}\n",
            "0.974 (+/-0.014) for {'C': 1, 'kernel': 'linear'}\n",
            "0.974 (+/-0.014) for {'C': 10, 'kernel': 'linear'}\n",
            "0.974 (+/-0.014) for {'C': 100, 'kernel': 'linear'}\n",
            "0.974 (+/-0.014) for {'C': 1000, 'kernel': 'linear'}\n",
            "0.979 (+/-0.012) for {'C': 1, 'degree': 1, 'kernel': 'poly'}\n",
            "0.976 (+/-0.011) for {'C': 1, 'degree': 2, 'kernel': 'poly'}\n",
            "0.950 (+/-0.025) for {'C': 1, 'degree': 3, 'kernel': 'poly'}\n",
            "0.587 (+/-0.014) for {'C': 1, 'degree': 6, 'kernel': 'poly'}\n",
            "0.978 (+/-0.008) for {'C': 10, 'degree': 1, 'kernel': 'poly'}\n",
            "0.984 (+/-0.010) for {'C': 10, 'degree': 2, 'kernel': 'poly'}\n",
            "0.989 (+/-0.014) for {'C': 10, 'degree': 3, 'kernel': 'poly'}\n",
            "0.792 (+/-0.044) for {'C': 10, 'degree': 6, 'kernel': 'poly'}\n",
            "0.974 (+/-0.014) for {'C': 100, 'degree': 1, 'kernel': 'poly'}\n",
            "0.984 (+/-0.010) for {'C': 100, 'degree': 2, 'kernel': 'poly'}\n",
            "0.988 (+/-0.013) for {'C': 100, 'degree': 3, 'kernel': 'poly'}\n",
            "0.906 (+/-0.029) for {'C': 100, 'degree': 6, 'kernel': 'poly'}\n",
            "0.974 (+/-0.014) for {'C': 1000, 'degree': 1, 'kernel': 'poly'}\n",
            "0.984 (+/-0.010) for {'C': 1000, 'degree': 2, 'kernel': 'poly'}\n",
            "0.988 (+/-0.013) for {'C': 1000, 'degree': 3, 'kernel': 'poly'}\n",
            "0.909 (+/-0.030) for {'C': 1000, 'degree': 6, 'kernel': 'poly'}\n",
            "\n",
            "Detailed classification report:\n",
            "\n",
            "The model is trained on the full development set.\n",
            "The scores are computed on the full evaluation set.\n",
            "\n"
          ]
        }
      ],
      "source": [
        "from sklearn.model_selection import GridSearchCV\n",
        "from sklearn.metrics import classification_report\n",
        "from sklearn.svm import SVC\n",
        "\n",
        "\n",
        "# Set the parameters by cross-validation\n",
        "tuned_parameters = [\n",
        "    {\"kernel\": [\"rbf\"], \"gamma\": [1e-3, 1e-4], \"C\": [1, 10, 100, 1000]},\n",
        "    {\"kernel\": [\"linear\"], \"C\": [1, 10, 100, 1000]},\n",
        "    {\"kernel\": [\"poly\"],\"degree\": [1,2,3,6], \"C\": [1, 10, 100, 1000]},\n",
        "]\n",
        "\n",
        "\n",
        "\n",
        "\n",
        "print(\"# Tuning hyper-parameters for the custum score\")\n",
        "print()\n",
        "\n",
        "clf = GridSearchCV(SVC(), tuned_parameters, scoring=my_scorer)\n",
        "clf.fit(X_train_val, y_train_val)\n",
        "\n",
        "print(\"Best parameters set found on development set:\")\n",
        "print()\n",
        "print(clf.best_params_)\n",
        "print()\n",
        "print(\"Grid scores on development set:\")\n",
        "print()\n",
        "means = clf.cv_results_[\"mean_test_score\"]\n",
        "stds = clf.cv_results_[\"std_test_score\"]\n",
        "for mean, std, params in zip(means, stds, clf.cv_results_[\"params\"]):\n",
        "    print(\"%0.3f (+/-%0.03f) for %r\" % (mean, std * 2, params))\n",
        "print()\n",
        "\n"
      ]
    },
    {
      "cell_type": "code",
      "execution_count": 41,
      "id": "8b7b5feb",
      "metadata": {},
      "outputs": [
        {
          "name": "stdout",
          "output_type": "stream",
          "text": [
            "              precision    recall  f1-score   support\n",
            "\n",
            "           0       1.00      1.00      1.00        27\n",
            "           1       1.00      0.97      0.99        35\n",
            "           2       1.00      0.97      0.99        36\n",
            "           3       1.00      1.00      1.00        29\n",
            "           4       1.00      0.97      0.98        30\n",
            "           5       0.97      0.97      0.97        40\n",
            "           6       1.00      1.00      1.00        44\n",
            "           7       0.97      0.97      0.97        39\n",
            "           8       0.95      1.00      0.97        39\n",
            "           9       0.98      1.00      0.99        41\n",
            "\n",
            "    accuracy                           0.99       360\n",
            "   macro avg       0.99      0.99      0.99       360\n",
            "weighted avg       0.99      0.99      0.99       360\n",
            "\n",
            "\n"
          ]
        }
      ],
      "source": [
        "    y_true, y_pred = y_test, clf.predict(X_test)\n",
        "    print(classification_report(y_true, y_pred))\n",
        "    print()"
      ]
    },
    {
      "cell_type": "code",
      "execution_count": null,
      "id": "fa80929b",
      "metadata": {
        "id": "fa80929b"
      },
      "outputs": [],
      "source": [
        "my_accuracy = (tn + tp) / (tn + tp + fp + (fn*5))\n",
        "print('L’erreur de classification KNeighborsClassifier(15) avec cross_val (cv=5) est:', round( 1 - my_accuracy,2))"
      ]
    }
  ],
  "metadata": {
    "colab": {
      "name": "TP1 (1).ipynb",
      "provenance": []
    },
    "kernelspec": {
      "display_name": "Python 3",
      "language": "python",
      "name": "python3"
    },
    "language_info": {
      "codemirror_mode": {
        "name": "ipython",
        "version": 3
      },
      "file_extension": ".py",
      "mimetype": "text/x-python",
      "name": "python",
      "nbconvert_exporter": "python",
      "pygments_lexer": "ipython3",
      "version": "3.8.10"
    }
  },
  "nbformat": 4,
  "nbformat_minor": 5
}
