{
  "cells": [
    {
      "cell_type": "code",
      "execution_count": 1,
      "id": "b9e2474e",
      "metadata": {
        "id": "b9e2474e"
      },
      "outputs": [],
      "source": [
        "# Chargement et étude rapide du jeu de données\n",
        "import numpy as np\n",
        "import pandas as pd\n",
        "import matplotlib.pyplot as plt\n",
        "import seaborn as sns\n",
        "\n",
        "from sklearn.model_selection import train_test_split\n",
        "from sklearn.neighbors import KNeighborsClassifier\n",
        "from sklearn.metrics import precision_score\n",
        "from sklearn.metrics import accuracy_score\n",
        "from sklearn.metrics import recall_score\n",
        "from sklearn.metrics import roc_auc_score\n",
        "\n",
        "from sklearn.preprocessing import StandardScaler\n",
        "\n",
        "from sklearn.model_selection import cross_val_score\n",
        "import statistics\n",
        "\n",
        "from sklearn.metrics import confusion_matrix"
      ]
    },
    {
      "cell_type": "code",
      "execution_count": 2,
      "id": "ab2f5a55",
      "metadata": {
        "id": "ab2f5a55"
      },
      "outputs": [],
      "source": [
        "import warnings\n",
        "warnings.filterwarnings('ignore')"
      ]
    },
    {
      "cell_type": "code",
      "execution_count": 3,
      "id": "8b8dc27a",
      "metadata": {
        "colab": {
          "background_save": true,
          "base_uri": "https://localhost:8080/",
          "height": 387
        },
        "id": "8b8dc27a",
        "outputId": "8fbb252f-3b1f-4b93-9bdc-e9ba5fceb901"
      },
      "outputs": [
        {
          "data": {
            "text/html": [
              "<div>\n",
              "<style scoped>\n",
              "    .dataframe tbody tr th:only-of-type {\n",
              "        vertical-align: middle;\n",
              "    }\n",
              "\n",
              "    .dataframe tbody tr th {\n",
              "        vertical-align: top;\n",
              "    }\n",
              "\n",
              "    .dataframe thead th {\n",
              "        text-align: right;\n",
              "    }\n",
              "</style>\n",
              "<table border=\"1\" class=\"dataframe\">\n",
              "  <thead>\n",
              "    <tr style=\"text-align: right;\">\n",
              "      <th></th>\n",
              "      <th>0</th>\n",
              "      <th>1</th>\n",
              "      <th>2</th>\n",
              "      <th>3</th>\n",
              "      <th>4</th>\n",
              "      <th>5</th>\n",
              "      <th>6</th>\n",
              "      <th>7</th>\n",
              "      <th>8</th>\n",
              "      <th>9</th>\n",
              "      <th>10</th>\n",
              "      <th>11</th>\n",
              "      <th>12</th>\n",
              "      <th>13</th>\n",
              "    </tr>\n",
              "  </thead>\n",
              "  <tbody>\n",
              "    <tr>\n",
              "      <th>0</th>\n",
              "      <td>70.0</td>\n",
              "      <td>1.0</td>\n",
              "      <td>4.0</td>\n",
              "      <td>130.0</td>\n",
              "      <td>322.0</td>\n",
              "      <td>0.0</td>\n",
              "      <td>2.0</td>\n",
              "      <td>109.0</td>\n",
              "      <td>0.0</td>\n",
              "      <td>2.4</td>\n",
              "      <td>2.0</td>\n",
              "      <td>3.0</td>\n",
              "      <td>3.0</td>\n",
              "      <td>2</td>\n",
              "    </tr>\n",
              "    <tr>\n",
              "      <th>1</th>\n",
              "      <td>67.0</td>\n",
              "      <td>0.0</td>\n",
              "      <td>3.0</td>\n",
              "      <td>115.0</td>\n",
              "      <td>564.0</td>\n",
              "      <td>0.0</td>\n",
              "      <td>2.0</td>\n",
              "      <td>160.0</td>\n",
              "      <td>0.0</td>\n",
              "      <td>1.6</td>\n",
              "      <td>2.0</td>\n",
              "      <td>0.0</td>\n",
              "      <td>7.0</td>\n",
              "      <td>1</td>\n",
              "    </tr>\n",
              "    <tr>\n",
              "      <th>2</th>\n",
              "      <td>57.0</td>\n",
              "      <td>1.0</td>\n",
              "      <td>2.0</td>\n",
              "      <td>124.0</td>\n",
              "      <td>261.0</td>\n",
              "      <td>0.0</td>\n",
              "      <td>0.0</td>\n",
              "      <td>141.0</td>\n",
              "      <td>0.0</td>\n",
              "      <td>0.3</td>\n",
              "      <td>1.0</td>\n",
              "      <td>0.0</td>\n",
              "      <td>7.0</td>\n",
              "      <td>2</td>\n",
              "    </tr>\n",
              "    <tr>\n",
              "      <th>3</th>\n",
              "      <td>64.0</td>\n",
              "      <td>1.0</td>\n",
              "      <td>4.0</td>\n",
              "      <td>128.0</td>\n",
              "      <td>263.0</td>\n",
              "      <td>0.0</td>\n",
              "      <td>0.0</td>\n",
              "      <td>105.0</td>\n",
              "      <td>1.0</td>\n",
              "      <td>0.2</td>\n",
              "      <td>2.0</td>\n",
              "      <td>1.0</td>\n",
              "      <td>7.0</td>\n",
              "      <td>1</td>\n",
              "    </tr>\n",
              "    <tr>\n",
              "      <th>4</th>\n",
              "      <td>74.0</td>\n",
              "      <td>0.0</td>\n",
              "      <td>2.0</td>\n",
              "      <td>120.0</td>\n",
              "      <td>269.0</td>\n",
              "      <td>0.0</td>\n",
              "      <td>2.0</td>\n",
              "      <td>121.0</td>\n",
              "      <td>1.0</td>\n",
              "      <td>0.2</td>\n",
              "      <td>1.0</td>\n",
              "      <td>1.0</td>\n",
              "      <td>3.0</td>\n",
              "      <td>1</td>\n",
              "    </tr>\n",
              "    <tr>\n",
              "      <th>...</th>\n",
              "      <td>...</td>\n",
              "      <td>...</td>\n",
              "      <td>...</td>\n",
              "      <td>...</td>\n",
              "      <td>...</td>\n",
              "      <td>...</td>\n",
              "      <td>...</td>\n",
              "      <td>...</td>\n",
              "      <td>...</td>\n",
              "      <td>...</td>\n",
              "      <td>...</td>\n",
              "      <td>...</td>\n",
              "      <td>...</td>\n",
              "      <td>...</td>\n",
              "    </tr>\n",
              "    <tr>\n",
              "      <th>265</th>\n",
              "      <td>52.0</td>\n",
              "      <td>1.0</td>\n",
              "      <td>3.0</td>\n",
              "      <td>172.0</td>\n",
              "      <td>199.0</td>\n",
              "      <td>1.0</td>\n",
              "      <td>0.0</td>\n",
              "      <td>162.0</td>\n",
              "      <td>0.0</td>\n",
              "      <td>0.5</td>\n",
              "      <td>1.0</td>\n",
              "      <td>0.0</td>\n",
              "      <td>7.0</td>\n",
              "      <td>1</td>\n",
              "    </tr>\n",
              "    <tr>\n",
              "      <th>266</th>\n",
              "      <td>44.0</td>\n",
              "      <td>1.0</td>\n",
              "      <td>2.0</td>\n",
              "      <td>120.0</td>\n",
              "      <td>263.0</td>\n",
              "      <td>0.0</td>\n",
              "      <td>0.0</td>\n",
              "      <td>173.0</td>\n",
              "      <td>0.0</td>\n",
              "      <td>0.0</td>\n",
              "      <td>1.0</td>\n",
              "      <td>0.0</td>\n",
              "      <td>7.0</td>\n",
              "      <td>1</td>\n",
              "    </tr>\n",
              "    <tr>\n",
              "      <th>267</th>\n",
              "      <td>56.0</td>\n",
              "      <td>0.0</td>\n",
              "      <td>2.0</td>\n",
              "      <td>140.0</td>\n",
              "      <td>294.0</td>\n",
              "      <td>0.0</td>\n",
              "      <td>2.0</td>\n",
              "      <td>153.0</td>\n",
              "      <td>0.0</td>\n",
              "      <td>1.3</td>\n",
              "      <td>2.0</td>\n",
              "      <td>0.0</td>\n",
              "      <td>3.0</td>\n",
              "      <td>1</td>\n",
              "    </tr>\n",
              "    <tr>\n",
              "      <th>268</th>\n",
              "      <td>57.0</td>\n",
              "      <td>1.0</td>\n",
              "      <td>4.0</td>\n",
              "      <td>140.0</td>\n",
              "      <td>192.0</td>\n",
              "      <td>0.0</td>\n",
              "      <td>0.0</td>\n",
              "      <td>148.0</td>\n",
              "      <td>0.0</td>\n",
              "      <td>0.4</td>\n",
              "      <td>2.0</td>\n",
              "      <td>0.0</td>\n",
              "      <td>6.0</td>\n",
              "      <td>1</td>\n",
              "    </tr>\n",
              "    <tr>\n",
              "      <th>269</th>\n",
              "      <td>67.0</td>\n",
              "      <td>1.0</td>\n",
              "      <td>4.0</td>\n",
              "      <td>160.0</td>\n",
              "      <td>286.0</td>\n",
              "      <td>0.0</td>\n",
              "      <td>2.0</td>\n",
              "      <td>108.0</td>\n",
              "      <td>1.0</td>\n",
              "      <td>1.5</td>\n",
              "      <td>2.0</td>\n",
              "      <td>3.0</td>\n",
              "      <td>3.0</td>\n",
              "      <td>2</td>\n",
              "    </tr>\n",
              "  </tbody>\n",
              "</table>\n",
              "<p>270 rows × 14 columns</p>\n",
              "</div>"
            ],
            "text/plain": [
              "       0    1    2      3      4    5    6      7    8    9    10   11   12  \\\n",
              "0    70.0  1.0  4.0  130.0  322.0  0.0  2.0  109.0  0.0  2.4  2.0  3.0  3.0   \n",
              "1    67.0  0.0  3.0  115.0  564.0  0.0  2.0  160.0  0.0  1.6  2.0  0.0  7.0   \n",
              "2    57.0  1.0  2.0  124.0  261.0  0.0  0.0  141.0  0.0  0.3  1.0  0.0  7.0   \n",
              "3    64.0  1.0  4.0  128.0  263.0  0.0  0.0  105.0  1.0  0.2  2.0  1.0  7.0   \n",
              "4    74.0  0.0  2.0  120.0  269.0  0.0  2.0  121.0  1.0  0.2  1.0  1.0  3.0   \n",
              "..    ...  ...  ...    ...    ...  ...  ...    ...  ...  ...  ...  ...  ...   \n",
              "265  52.0  1.0  3.0  172.0  199.0  1.0  0.0  162.0  0.0  0.5  1.0  0.0  7.0   \n",
              "266  44.0  1.0  2.0  120.0  263.0  0.0  0.0  173.0  0.0  0.0  1.0  0.0  7.0   \n",
              "267  56.0  0.0  2.0  140.0  294.0  0.0  2.0  153.0  0.0  1.3  2.0  0.0  3.0   \n",
              "268  57.0  1.0  4.0  140.0  192.0  0.0  0.0  148.0  0.0  0.4  2.0  0.0  6.0   \n",
              "269  67.0  1.0  4.0  160.0  286.0  0.0  2.0  108.0  1.0  1.5  2.0  3.0  3.0   \n",
              "\n",
              "     13  \n",
              "0     2  \n",
              "1     1  \n",
              "2     2  \n",
              "3     1  \n",
              "4     1  \n",
              "..   ..  \n",
              "265   1  \n",
              "266   1  \n",
              "267   1  \n",
              "268   1  \n",
              "269   2  \n",
              "\n",
              "[270 rows x 14 columns]"
            ]
          },
          "execution_count": 3,
          "metadata": {},
          "output_type": "execute_result"
        }
      ],
      "source": [
        "data = pd.read_table(\"heart.dat\", sep=\"\\s+\", header=None)\n",
        "data"
      ]
    },
    {
      "cell_type": "markdown",
      "id": "c5c9946f",
      "metadata": {
        "id": "c5c9946f"
      },
      "source": [
        "Attribute Information:\n",
        "------------------------\n",
        "      -- 1. age       \n",
        "      -- 2. sex       \n",
        "      -- 3. chest pain type  (4 values)       \n",
        "      -- 4. resting blood pressure  \n",
        "      -- 5. serum cholestoral in mg/dl      \n",
        "      -- 6. fasting blood sugar > 120 mg/dl       \n",
        "      -- 7. resting electrocardiographic results  (values 0,1,2) \n",
        "      -- 8. maximum heart rate achieved  \n",
        "      -- 9. exercise induced angina    \n",
        "      -- 10. oldpeak = ST depression induced by exercise relative to rest   \n",
        "      -- 11. the slope of the peak exercise ST segment     \n",
        "      -- 12. number of major vessels (0-3) colored by flourosopy        \n",
        "      -- 13.  thal: 3 = normal; 6 = fixed defect; 7 = reversable defect     \n",
        "-- Absence (1), or presence (2) of heart disease"
      ]
    },
    {
      "cell_type": "code",
      "execution_count": 4,
      "id": "eeb1ec3a",
      "metadata": {
        "id": "eeb1ec3a"
      },
      "outputs": [
        {
          "data": {
            "text/plain": [
              "age                                     0\n",
              "sex                                     0\n",
              "chest_pain_type                         0\n",
              "resting_blood_pressure                  0\n",
              "serum_cholestoral                       0\n",
              "fasting_blood_sugar                     0\n",
              "resting_electrocardiographic_results    0\n",
              "maximum_heart_rate_achieved             0\n",
              "exercise_induced_angina                 0\n",
              "oldpeak                                 0\n",
              "slope                                   0\n",
              "number_of_major_vessels                 0\n",
              "thal                                    0\n",
              "label                                   0\n",
              "dtype: int64"
            ]
          },
          "execution_count": 4,
          "metadata": {},
          "output_type": "execute_result"
        }
      ],
      "source": [
        "# Renommer les colonnes et regarder les données manquantes (il n'y en a pas)\n",
        "data.columns = ['age','sex','chest_pain_type','resting_blood_pressure','serum_cholestoral','fasting_blood_sugar',\n",
        "'resting_electrocardiographic_results','maximum_heart_rate_achieved','exercise_induced_angina','oldpeak',\n",
        "'slope','number_of_major_vessels','thal','label']\n",
        "data.isnull().sum()"
      ]
    },
    {
      "cell_type": "markdown",
      "id": "7b8a1d47",
      "metadata": {},
      "source": [
        "Nous remarquons l'abscence des valeurs nulles pour toutes nos variables"
      ]
    },
    {
      "cell_type": "code",
      "execution_count": 5,
      "id": "70c91318",
      "metadata": {
        "id": "70c91318"
      },
      "outputs": [
        {
          "name": "stdout",
          "output_type": "stream",
          "text": [
            "(270, 14)\n"
          ]
        },
        {
          "data": {
            "text/html": [
              "<div>\n",
              "<style scoped>\n",
              "    .dataframe tbody tr th:only-of-type {\n",
              "        vertical-align: middle;\n",
              "    }\n",
              "\n",
              "    .dataframe tbody tr th {\n",
              "        vertical-align: top;\n",
              "    }\n",
              "\n",
              "    .dataframe thead th {\n",
              "        text-align: right;\n",
              "    }\n",
              "</style>\n",
              "<table border=\"1\" class=\"dataframe\">\n",
              "  <thead>\n",
              "    <tr style=\"text-align: right;\">\n",
              "      <th></th>\n",
              "      <th>age</th>\n",
              "      <th>sex</th>\n",
              "      <th>chest_pain_type</th>\n",
              "      <th>resting_blood_pressure</th>\n",
              "      <th>serum_cholestoral</th>\n",
              "      <th>fasting_blood_sugar</th>\n",
              "      <th>resting_electrocardiographic_results</th>\n",
              "      <th>maximum_heart_rate_achieved</th>\n",
              "      <th>exercise_induced_angina</th>\n",
              "      <th>oldpeak</th>\n",
              "      <th>slope</th>\n",
              "      <th>number_of_major_vessels</th>\n",
              "      <th>thal</th>\n",
              "      <th>label</th>\n",
              "    </tr>\n",
              "  </thead>\n",
              "  <tbody>\n",
              "    <tr>\n",
              "      <th>0</th>\n",
              "      <td>70.0</td>\n",
              "      <td>1.0</td>\n",
              "      <td>4.0</td>\n",
              "      <td>130.0</td>\n",
              "      <td>322.0</td>\n",
              "      <td>0.0</td>\n",
              "      <td>2.0</td>\n",
              "      <td>109.0</td>\n",
              "      <td>0.0</td>\n",
              "      <td>2.4</td>\n",
              "      <td>2.0</td>\n",
              "      <td>3.0</td>\n",
              "      <td>3.0</td>\n",
              "      <td>2</td>\n",
              "    </tr>\n",
              "    <tr>\n",
              "      <th>1</th>\n",
              "      <td>67.0</td>\n",
              "      <td>0.0</td>\n",
              "      <td>3.0</td>\n",
              "      <td>115.0</td>\n",
              "      <td>564.0</td>\n",
              "      <td>0.0</td>\n",
              "      <td>2.0</td>\n",
              "      <td>160.0</td>\n",
              "      <td>0.0</td>\n",
              "      <td>1.6</td>\n",
              "      <td>2.0</td>\n",
              "      <td>0.0</td>\n",
              "      <td>7.0</td>\n",
              "      <td>1</td>\n",
              "    </tr>\n",
              "    <tr>\n",
              "      <th>2</th>\n",
              "      <td>57.0</td>\n",
              "      <td>1.0</td>\n",
              "      <td>2.0</td>\n",
              "      <td>124.0</td>\n",
              "      <td>261.0</td>\n",
              "      <td>0.0</td>\n",
              "      <td>0.0</td>\n",
              "      <td>141.0</td>\n",
              "      <td>0.0</td>\n",
              "      <td>0.3</td>\n",
              "      <td>1.0</td>\n",
              "      <td>0.0</td>\n",
              "      <td>7.0</td>\n",
              "      <td>2</td>\n",
              "    </tr>\n",
              "    <tr>\n",
              "      <th>3</th>\n",
              "      <td>64.0</td>\n",
              "      <td>1.0</td>\n",
              "      <td>4.0</td>\n",
              "      <td>128.0</td>\n",
              "      <td>263.0</td>\n",
              "      <td>0.0</td>\n",
              "      <td>0.0</td>\n",
              "      <td>105.0</td>\n",
              "      <td>1.0</td>\n",
              "      <td>0.2</td>\n",
              "      <td>2.0</td>\n",
              "      <td>1.0</td>\n",
              "      <td>7.0</td>\n",
              "      <td>1</td>\n",
              "    </tr>\n",
              "    <tr>\n",
              "      <th>4</th>\n",
              "      <td>74.0</td>\n",
              "      <td>0.0</td>\n",
              "      <td>2.0</td>\n",
              "      <td>120.0</td>\n",
              "      <td>269.0</td>\n",
              "      <td>0.0</td>\n",
              "      <td>2.0</td>\n",
              "      <td>121.0</td>\n",
              "      <td>1.0</td>\n",
              "      <td>0.2</td>\n",
              "      <td>1.0</td>\n",
              "      <td>1.0</td>\n",
              "      <td>3.0</td>\n",
              "      <td>1</td>\n",
              "    </tr>\n",
              "    <tr>\n",
              "      <th>...</th>\n",
              "      <td>...</td>\n",
              "      <td>...</td>\n",
              "      <td>...</td>\n",
              "      <td>...</td>\n",
              "      <td>...</td>\n",
              "      <td>...</td>\n",
              "      <td>...</td>\n",
              "      <td>...</td>\n",
              "      <td>...</td>\n",
              "      <td>...</td>\n",
              "      <td>...</td>\n",
              "      <td>...</td>\n",
              "      <td>...</td>\n",
              "      <td>...</td>\n",
              "    </tr>\n",
              "    <tr>\n",
              "      <th>265</th>\n",
              "      <td>52.0</td>\n",
              "      <td>1.0</td>\n",
              "      <td>3.0</td>\n",
              "      <td>172.0</td>\n",
              "      <td>199.0</td>\n",
              "      <td>1.0</td>\n",
              "      <td>0.0</td>\n",
              "      <td>162.0</td>\n",
              "      <td>0.0</td>\n",
              "      <td>0.5</td>\n",
              "      <td>1.0</td>\n",
              "      <td>0.0</td>\n",
              "      <td>7.0</td>\n",
              "      <td>1</td>\n",
              "    </tr>\n",
              "    <tr>\n",
              "      <th>266</th>\n",
              "      <td>44.0</td>\n",
              "      <td>1.0</td>\n",
              "      <td>2.0</td>\n",
              "      <td>120.0</td>\n",
              "      <td>263.0</td>\n",
              "      <td>0.0</td>\n",
              "      <td>0.0</td>\n",
              "      <td>173.0</td>\n",
              "      <td>0.0</td>\n",
              "      <td>0.0</td>\n",
              "      <td>1.0</td>\n",
              "      <td>0.0</td>\n",
              "      <td>7.0</td>\n",
              "      <td>1</td>\n",
              "    </tr>\n",
              "    <tr>\n",
              "      <th>267</th>\n",
              "      <td>56.0</td>\n",
              "      <td>0.0</td>\n",
              "      <td>2.0</td>\n",
              "      <td>140.0</td>\n",
              "      <td>294.0</td>\n",
              "      <td>0.0</td>\n",
              "      <td>2.0</td>\n",
              "      <td>153.0</td>\n",
              "      <td>0.0</td>\n",
              "      <td>1.3</td>\n",
              "      <td>2.0</td>\n",
              "      <td>0.0</td>\n",
              "      <td>3.0</td>\n",
              "      <td>1</td>\n",
              "    </tr>\n",
              "    <tr>\n",
              "      <th>268</th>\n",
              "      <td>57.0</td>\n",
              "      <td>1.0</td>\n",
              "      <td>4.0</td>\n",
              "      <td>140.0</td>\n",
              "      <td>192.0</td>\n",
              "      <td>0.0</td>\n",
              "      <td>0.0</td>\n",
              "      <td>148.0</td>\n",
              "      <td>0.0</td>\n",
              "      <td>0.4</td>\n",
              "      <td>2.0</td>\n",
              "      <td>0.0</td>\n",
              "      <td>6.0</td>\n",
              "      <td>1</td>\n",
              "    </tr>\n",
              "    <tr>\n",
              "      <th>269</th>\n",
              "      <td>67.0</td>\n",
              "      <td>1.0</td>\n",
              "      <td>4.0</td>\n",
              "      <td>160.0</td>\n",
              "      <td>286.0</td>\n",
              "      <td>0.0</td>\n",
              "      <td>2.0</td>\n",
              "      <td>108.0</td>\n",
              "      <td>1.0</td>\n",
              "      <td>1.5</td>\n",
              "      <td>2.0</td>\n",
              "      <td>3.0</td>\n",
              "      <td>3.0</td>\n",
              "      <td>2</td>\n",
              "    </tr>\n",
              "  </tbody>\n",
              "</table>\n",
              "<p>270 rows × 14 columns</p>\n",
              "</div>"
            ],
            "text/plain": [
              "      age  sex  chest_pain_type  resting_blood_pressure  serum_cholestoral  \\\n",
              "0    70.0  1.0              4.0                   130.0              322.0   \n",
              "1    67.0  0.0              3.0                   115.0              564.0   \n",
              "2    57.0  1.0              2.0                   124.0              261.0   \n",
              "3    64.0  1.0              4.0                   128.0              263.0   \n",
              "4    74.0  0.0              2.0                   120.0              269.0   \n",
              "..    ...  ...              ...                     ...                ...   \n",
              "265  52.0  1.0              3.0                   172.0              199.0   \n",
              "266  44.0  1.0              2.0                   120.0              263.0   \n",
              "267  56.0  0.0              2.0                   140.0              294.0   \n",
              "268  57.0  1.0              4.0                   140.0              192.0   \n",
              "269  67.0  1.0              4.0                   160.0              286.0   \n",
              "\n",
              "     fasting_blood_sugar  resting_electrocardiographic_results  \\\n",
              "0                    0.0                                   2.0   \n",
              "1                    0.0                                   2.0   \n",
              "2                    0.0                                   0.0   \n",
              "3                    0.0                                   0.0   \n",
              "4                    0.0                                   2.0   \n",
              "..                   ...                                   ...   \n",
              "265                  1.0                                   0.0   \n",
              "266                  0.0                                   0.0   \n",
              "267                  0.0                                   2.0   \n",
              "268                  0.0                                   0.0   \n",
              "269                  0.0                                   2.0   \n",
              "\n",
              "     maximum_heart_rate_achieved  exercise_induced_angina  oldpeak  slope  \\\n",
              "0                          109.0                      0.0      2.4    2.0   \n",
              "1                          160.0                      0.0      1.6    2.0   \n",
              "2                          141.0                      0.0      0.3    1.0   \n",
              "3                          105.0                      1.0      0.2    2.0   \n",
              "4                          121.0                      1.0      0.2    1.0   \n",
              "..                           ...                      ...      ...    ...   \n",
              "265                        162.0                      0.0      0.5    1.0   \n",
              "266                        173.0                      0.0      0.0    1.0   \n",
              "267                        153.0                      0.0      1.3    2.0   \n",
              "268                        148.0                      0.0      0.4    2.0   \n",
              "269                        108.0                      1.0      1.5    2.0   \n",
              "\n",
              "     number_of_major_vessels  thal  label  \n",
              "0                        3.0   3.0      2  \n",
              "1                        0.0   7.0      1  \n",
              "2                        0.0   7.0      2  \n",
              "3                        1.0   7.0      1  \n",
              "4                        1.0   3.0      1  \n",
              "..                       ...   ...    ...  \n",
              "265                      0.0   7.0      1  \n",
              "266                      0.0   7.0      1  \n",
              "267                      0.0   3.0      1  \n",
              "268                      0.0   6.0      1  \n",
              "269                      3.0   3.0      2  \n",
              "\n",
              "[270 rows x 14 columns]"
            ]
          },
          "execution_count": 5,
          "metadata": {},
          "output_type": "execute_result"
        }
      ],
      "source": [
        "print(data.shape)\n",
        "data"
      ]
    },
    {
      "cell_type": "code",
      "execution_count": 6,
      "id": "833412d4",
      "metadata": {
        "id": "833412d4"
      },
      "outputs": [
        {
          "name": "stdout",
          "output_type": "stream",
          "text": [
            "1    150\n",
            "2    120\n",
            "Name: label, dtype: int64\n"
          ]
        },
        {
          "data": {
            "text/plain": [
              "<AxesSubplot:xlabel='count', ylabel='label'>"
            ]
          },
          "execution_count": 6,
          "metadata": {},
          "output_type": "execute_result"
        },
        {
          "data": {
            "image/png": "[encoded data removed]",
            "text/plain": [
              "<Figure size 432x288 with 1 Axes>"
            ]
          },
          "metadata": {
            "needs_background": "light"
          },
          "output_type": "display_data"
        }
      ],
      "source": [
        "# Répartition graphique des réponses\n",
        "print(data.label.value_counts())\n",
        "sns.countplot(y=\"label\", data=data)"
      ]
    },
    {
      "cell_type": "markdown",
      "id": "699c80b3",
      "metadata": {},
      "source": [
        "Nous obersvons que nos données, ne sont pas équilibrées, en effet ceux qui souffrent d'un problème cardiaque sont moins nombreux par rapport aux personnes saines.\n",
        "Il faut prendre cette situation dans l'échantillonage de données et le choix de la métrique."
      ]
    },
    {
      "cell_type": "code",
      "execution_count": 7,
      "id": "a1ab81c1",
      "metadata": {
        "id": "a1ab81c1",
        "scrolled": true
      },
      "outputs": [
        {
          "data": {
            "text/plain": [
              "<AxesSubplot:xlabel='label', ylabel='maximum_heart_rate_achieved'>"
            ]
          },
          "execution_count": 7,
          "metadata": {},
          "output_type": "execute_result"
        },
        {
          "data": {
            "image/png": "[encoded data removed]",
            "text/plain": [
              "<Figure size 1800x360 with 4 Axes>"
            ]
          },
          "metadata": {
            "needs_background": "light"
          },
          "output_type": "display_data"
        }
      ],
      "source": [
        "# Répartition graphique des exemples sur un tableau récapitulatif de qlq variables\n",
        "plt.figure(figsize=(25,5))\n",
        "plt.subplot(1,4,1)\n",
        "sns.boxplot(x='label',y='age',data=data)\n",
        "plt.subplot(1,4,2)\n",
        "sns.boxplot(x='label',y='resting_blood_pressure',data=data)\n",
        "plt.subplot(1,4,3)\n",
        "sns.boxplot(x='label',y='serum_cholestoral',data=data)\n",
        "plt.subplot(1,4,4)\n",
        "sns.boxplot(x='label',y='maximum_heart_rate_achieved',data=data)"
      ]
    },
    {
      "cell_type": "markdown",
      "id": "76d3d0cf",
      "metadata": {},
      "source": [
        "Pour les variables quantitatives ci-dessus, nous observons la présence de quelques points abbérants "
      ]
    },
    {
      "cell_type": "code",
      "execution_count": 8,
      "id": "65da882f",
      "metadata": {
        "id": "65da882f"
      },
      "outputs": [
        {
          "data": {
            "text/plain": [
              "<AxesSubplot:>"
            ]
          },
          "execution_count": 8,
          "metadata": {},
          "output_type": "execute_result"
        },
        {
          "data": {
            "image/png": "[encoded data removed]",
            "text/plain": [
              "<Figure size 792x648 with 2 Axes>"
            ]
          },
          "metadata": {
            "needs_background": "light"
          },
          "output_type": "display_data"
        }
      ],
      "source": [
        "# Matrice de corrélations\n",
        "data_corr = data.corr()\n",
        "\n",
        "# masque triangulaire\n",
        "mask = np.triu(np.ones_like(data_corr, dtype=bool))\n",
        "\n",
        "# matplolib setup\n",
        "f, ax = plt.subplots(figsize=(11, 9))\n",
        "\n",
        "# matrice de corrélation avec masque trinagulaire inférieur\n",
        "sns.heatmap(data_corr, mask=mask, cmap = 'mako', center=0, square=True)"
      ]
    },
    {
      "cell_type": "code",
      "execution_count": 12,
      "id": "7d668c47",
      "metadata": {
        "id": "7d668c47"
      },
      "outputs": [],
      "source": [
        "X = data[data.columns[:-1]]\n",
        "y = data[data.columns[-1:]]"
      ]
    },
    {
      "cell_type": "markdown",
      "id": "6f4e4c50",
      "metadata": {},
      "source": [
        "D'abord, nous allons importer les modules et et classes que nous allons utiliser pour notre démarche."
      ]
    },
    {
      "cell_type": "code",
      "execution_count": 14,
      "id": "75dc9ff0",
      "metadata": {},
      "outputs": [
        {
          "data": {
            "text/plain": [
              "0.7407407407407407"
            ]
          },
          "execution_count": 14,
          "metadata": {},
          "output_type": "execute_result"
        }
      ],
      "source": [
        "from sklearn.svm import SVC\n",
        "from sklearn.preprocessing import StandardScaler\n",
        "from sklearn.model_selection import train_test_split\n",
        "from sklearn.pipeline import Pipeline\n",
        "\n",
        "X_train, X_test, y_train, y_test = train_test_split(X, y,train_size= 0.80,random_state=0)\n",
        "pipe = Pipeline([('scaler', StandardScaler()), ('svc', SVC())])\n",
        "pipe.fit(X_train, y_train)\n",
        "Pipeline(steps=[('scaler', StandardScaler()), ('svc', SVC())])\n",
        "pipe.score(X_test, y_test)"
      ]
    },
    {
      "cell_type": "markdown",
      "id": "930f246c",
      "metadata": {},
      "source": [
        "Dans cette étape et avant toute manipulation, je vais séparer mes données sur trois groupes : un groupe pour l'apprentissage des paramètres (training_set), un groupe pour le choix des hypèr-paramètres (validation_ste) et un groupe pour tester la performance globale du modèle.\n"
      ]
    },
    {
      "cell_type": "code",
      "execution_count": 15,
      "id": "cd276369",
      "metadata": {},
      "outputs": [],
      "source": [
        "X_train_val, X_test, y_train_val, y_test = train_test_split(X, y,train_size= 0.80,random_state=0)\n"
      ]
    },
    {
      "cell_type": "markdown",
      "id": "8cfbcc68",
      "metadata": {},
      "source": [
        "L'échelle des variables peut impacter négativement la performance de mon modèle, c'est pour cela que je vais définir une étape de transformation de données (normalisation) avant d'alimenter la data au modèle."
      ]
    },
    {
      "cell_type": "code",
      "execution_count": 16,
      "id": "2037b559",
      "metadata": {},
      "outputs": [
        {
          "data": {
            "text/plain": [
              "StandardScaler()"
            ]
          },
          "execution_count": 16,
          "metadata": {},
          "output_type": "execute_result"
        }
      ],
      "source": [
        "scaler= StandardScaler()\n",
        "scaler.fit(X_train_val)"
      ]
    },
    {
      "cell_type": "markdown",
      "id": "1009beb5",
      "metadata": {},
      "source": [
        "et puis nous allons transformer nos données d'entrainement, de validation et de test"
      ]
    },
    {
      "cell_type": "code",
      "execution_count": 17,
      "id": "33b8576c",
      "metadata": {},
      "outputs": [],
      "source": [
        "X_train_val = scaler.transform(X_train_val)\n",
        "X_test = scaler.transform(X_test)"
      ]
    },
    {
      "cell_type": "markdown",
      "id": "54ea0000",
      "metadata": {},
      "source": [
        "Entrainemnt du modèle et choix des hypère-paramètres."
      ]
    },
    {
      "cell_type": "code",
      "execution_count": 23,
      "id": "62b68b68",
      "metadata": {},
      "outputs": [
        {
          "name": "stdout",
          "output_type": "stream",
          "text": [
            "0.8703703703703703\n"
          ]
        }
      ],
      "source": [
        "from sklearn.svm import SVC\n",
        "from sklearn.model_selection import GridSearchCV, cross_val_score, KFold\n",
        "\n",
        "\n",
        "# Set up possible values of parameters to optimize over\n",
        "p_grid = {\"C\": [1, 10, 100], \"gamma\": [0.01, 0.1]}\n",
        "\n",
        "# We will use a Support Vector Classifier with \"rbf\" kernel\n",
        "svm = SVC(kernel=\"rbf\")\n",
        "\n",
        "inner_cv = KFold(n_splits=4, shuffle=True, random_state=1)\n",
        "outer_cv = KFold(n_splits=4, shuffle=True, random_state=1)\n",
        "\n",
        "clf = GridSearchCV(estimator=svm, param_grid=p_grid, cv=inner_cv)\n",
        "nested_score = cross_val_score(clf, X=X_train_val, y=y_train_val, cv=outer_cv)\n",
        "score = nested_score.mean()\n",
        "print(score)\n"
      ]
    },
    {
      "cell_type": "code",
      "execution_count": 21,
      "id": "cc353297",
      "metadata": {},
      "outputs": [
        {
          "name": "stdout",
          "output_type": "stream",
          "text": [
            "Average difference of 0.005864 with std. dev. of 0.008189.\n"
          ]
        },
        {
          "data": {
            "image/png": "[encoded data removed]",
            "text/plain": [
              "<Figure size 432x288 with 2 Axes>"
            ]
          },
          "metadata": {
            "needs_background": "light"
          },
          "output_type": "display_data"
        }
      ],
      "source": [
        "from matplotlib import pyplot as plt\n",
        "from sklearn.svm import SVC\n",
        "from sklearn.model_selection import GridSearchCV, cross_val_score, KFold\n",
        "import numpy as np\n",
        "\n",
        "# Number of random trials\n",
        "NUM_TRIALS = 30\n",
        "\n",
        "\n",
        "\n",
        "\n",
        "# Arrays to store scores\n",
        "non_nested_scores = np.zeros(NUM_TRIALS)\n",
        "nested_scores = np.zeros(NUM_TRIALS)\n",
        "\n",
        "# Loop for each trial\n",
        "for i in range(NUM_TRIALS):\n",
        "\n",
        "    # Choose cross-validation techniques for the inner and outer loops,\n",
        "    # independently of the dataset.\n",
        "    # E.g \"GroupKFold\", \"LeaveOneOut\", \"LeaveOneGroupOut\", etc.\n",
        "\n",
        "    # Non_nested parameter search and scoring\n",
        "    clf = GridSearchCV(estimator=svm, param_grid=p_grid, cv=outer_cv)\n",
        "    clf.fit(X_train_val, y_train_val)\n",
        "    non_nested_scores[i] = clf.best_score_\n",
        "\n",
        "    # Nested CV with parameter optimization\n",
        "    clf = GridSearchCV(estimator=svm, param_grid=p_grid, cv=inner_cv)\n",
        "    nested_score = cross_val_score(clf, X=X_train_val, y=y_train_val, cv=outer_cv)\n",
        "    nested_scores[i] = nested_score.mean()\n",
        "\n",
        "score_difference = non_nested_scores - nested_scores\n",
        "\n",
        "print(\n",
        "    \"Average difference of {:6f} with std. dev. of {:6f}.\".format(\n",
        "        score_difference.mean(), score_difference.std()\n",
        "    )\n",
        ")\n",
        "\n",
        "# Plot scores on each trial for nested and non-nested CV\n",
        "plt.figure()\n",
        "plt.subplot(211)\n",
        "(non_nested_scores_line,) = plt.plot(non_nested_scores, color=\"r\")\n",
        "(nested_line,) = plt.plot(nested_scores, color=\"b\")\n",
        "plt.ylabel(\"score\", fontsize=\"14\")\n",
        "plt.legend(\n",
        "    [non_nested_scores_line, nested_line],\n",
        "    [\"Non-Nested CV\", \"Nested CV\"],\n",
        "    bbox_to_anchor=(0, 0.4, 0.5, 0),\n",
        ")\n",
        "plt.title(\n",
        "    \"Non-Nested and Nested Cross Validation on Iris Dataset\",\n",
        "    x=0.5,\n",
        "    y=1.1,\n",
        "    fontsize=\"15\",\n",
        ")\n",
        "\n",
        "# Plot bar chart of the difference.\n",
        "plt.subplot(212)\n",
        "difference_plot = plt.bar(range(NUM_TRIALS), score_difference)\n",
        "plt.xlabel(\"Individual Trial #\")\n",
        "plt.legend(\n",
        "    [difference_plot],\n",
        "    [\"Non-Nested CV - Nested CV Score\"],\n",
        "    bbox_to_anchor=(0, 1, 0.8, 0),\n",
        ")\n",
        "plt.ylabel(\"score difference\", fontsize=\"14\")\n",
        "\n",
        "plt.show()"
      ]
    },
    {
      "cell_type": "markdown",
      "id": "a60561f9",
      "metadata": {
        "id": "a60561f9"
      },
      "source": [
        "## Stratégie 1 : ensemble d’apprentissage, de validation et de test. "
      ]
    },
    {
      "cell_type": "code",
      "execution_count": null,
      "id": "c7ea0709",
      "metadata": {
        "id": "c7ea0709"
      },
      "outputs": [],
      "source": [
        "X_av, X_t, y_av, y_t = train_test_split(X, Y, test_size=0.3, random_state=42)\n",
        "X_a, X_v, y_a, y_v = train_test_split(X_av, y_av, test_size=0.33, random_state=42)\n",
        "X_a.shape"
      ]
    },
    {
      "cell_type": "code",
      "execution_count": null,
      "id": "3b4bfe9a",
      "metadata": {
        "id": "3b4bfe9a"
      },
      "outputs": [],
      "source": [
        "# create a scaler object\n",
        "std_scaler = StandardScaler()\n",
        "#Normalize\n",
        "X_a = pd.DataFrame(std_scaler.fit_transform(X_a), columns=X_a.columns)\n",
        "X_v = pd.DataFrame(std_scaler.fit_transform(X_v), columns=X_v.columns)\n",
        "X_t = pd.DataFrame(std_scaler.fit_transform(X_t), columns=X_t.columns)\n",
        "X_t"
      ]
    },
    {
      "cell_type": "code",
      "execution_count": null,
      "id": "2fe5db50",
      "metadata": {
        "id": "2fe5db50"
      },
      "outputs": [],
      "source": [
        "X_a.iloc[:,[0,3,4,7,9,11]]"
      ]
    },
    {
      "cell_type": "code",
      "execution_count": null,
      "id": "3576712f",
      "metadata": {
        "id": "3576712f"
      },
      "outputs": [],
      "source": [
        "#k = {1, 5, 10, 15, 20, 25}\n",
        "def myKNeighClass1(K=1):\n",
        "    model = KNeighborsClassifier(n_neighbors=K)\n",
        "    model.fit(X_a, y_a)\n",
        "    y_a_pred = model.predict(X_a)    \n",
        "    #print('L’erreur de classification á l\\'apprentissage:', round( 1 - accuracy_score(y_a, y_a_pred),2) )\n",
        "    y_v_pred = model.predict(X_v)\n",
        "    #print('L’erreur de classification á la validation:', round( 1 - accuracy_score(y_v, y_v_pred),2) )\n",
        "    return [round( 1 - accuracy_score(y_a, y_a_pred),2), round( 1 - accuracy_score(y_v, y_v_pred),2)]"
      ]
    },
    {
      "cell_type": "code",
      "execution_count": null,
      "id": "3d6d9683",
      "metadata": {
        "id": "3d6d9683"
      },
      "outputs": [],
      "source": [
        "def compareModels(myModel, myFunction, myParams=[]):\n",
        "    MLA_columns = [\"Nom du modéle\",\"Erreur de classification en apprentissage\",\"Erreur de classification en validation\"]\n",
        "    MLA_compare = pd.DataFrame(columns = MLA_columns)\n",
        "\n",
        "    row_index = 0\n",
        "    for pram in myParams:\n",
        "        \n",
        "        errors = myFunction(pram)\n",
        "        \n",
        "        MLA_name = myModel+'('+str(pram)+') :'\n",
        "        MLA_compare.loc[row_index, 'Nom du modéle'] = MLA_name\n",
        "        \n",
        "                \n",
        "        MLA_compare.loc[row_index, \"Erreur de classification en apprentissage\"] = errors[0]\n",
        "        MLA_compare.loc[row_index, \"Erreur de classification en validation\"] = errors[1]\n",
        "\n",
        "        row_index = row_index + 1\n",
        "\n",
        "    MLA_compare.sort_values(by = [\"Erreur de classification en validation\"], ascending = True, inplace = True)\n",
        "    return MLA_compare"
      ]
    },
    {
      "cell_type": "code",
      "execution_count": null,
      "id": "a7d53872",
      "metadata": {
        "id": "a7d53872"
      },
      "outputs": [],
      "source": [
        "MLA_compare = compareModels(myModel= 'KNeighClass', myFunction=myKNeighClass1, myParams=[1,5,10,15,20,25])\n",
        "MLA_compare"
      ]
    },
    {
      "cell_type": "code",
      "execution_count": null,
      "id": "4b302a40",
      "metadata": {
        "id": "4b302a40"
      },
      "outputs": [],
      "source": [
        "plt.title(\"MLA\")\n",
        "sns.barplot(x = \"Erreur de classification en validation\", y = \"Nom du modéle\", data = MLA_compare)"
      ]
    },
    {
      "cell_type": "code",
      "execution_count": null,
      "id": "85327fdc",
      "metadata": {
        "id": "85327fdc"
      },
      "outputs": [],
      "source": [
        "plt.title(\"MLA\")\n",
        "sns.barplot(x = \"Erreur de classification en apprentissage\", y = \"Erreur de classification en validation\", hue =\"Nom du modéle\", data = MLA_compare)"
      ]
    },
    {
      "cell_type": "code",
      "execution_count": null,
      "id": "e6e850c9",
      "metadata": {
        "id": "e6e850c9"
      },
      "outputs": [],
      "source": [
        "#K=10 est le meilleur paramètre, car il présente l'erreur de validation la plus faible."
      ]
    },
    {
      "cell_type": "code",
      "execution_count": null,
      "id": "66f88108",
      "metadata": {
        "id": "66f88108"
      },
      "outputs": [],
      "source": [
        "model = KNeighborsClassifier(n_neighbors=10)\n",
        "model.fit(X_a, y_a)\n",
        "y_t_pred = model.predict(X_t)   \n",
        "print('L’erreur de classification au test:', round( 1 - accuracy_score(y_t, y_t_pred),2) )"
      ]
    },
    {
      "cell_type": "markdown",
      "id": "8a531b7f",
      "metadata": {
        "id": "8a531b7f"
      },
      "source": [
        "## Stratégie 2 : validation-croisée pour la sélection de k"
      ]
    },
    {
      "cell_type": "code",
      "execution_count": null,
      "id": "8a395048",
      "metadata": {
        "id": "8a395048"
      },
      "outputs": [],
      "source": [
        "X_av, X_t, y_av, y_t = train_test_split(X, Y, test_size=0.3, random_state=42)\n",
        "#Normalisation\n",
        "std_scaler = StandardScaler()\n",
        "X_av = pd.DataFrame(std_scaler.fit_transform(X_av), columns=X_av.columns)\n",
        "X_t = pd.DataFrame(std_scaler.fit_transform(X_t), columns=X_t.columns)\n",
        "X_av.shape"
      ]
    },
    {
      "cell_type": "code",
      "execution_count": null,
      "id": "1ececea4",
      "metadata": {
        "id": "1ececea4"
      },
      "outputs": [],
      "source": [
        "#k = {1, 5, 10, 15, 20, 25}\n",
        "def myKNeighClass2(K=1):\n",
        "    model = KNeighborsClassifier(n_neighbors=K)\n",
        "    accuracies = cross_val_score(model, X_av, y_av, cv=5)\n",
        "    #print('L’erreur de classification est:', round( 1 - statistics.mean(accuracies),2))\n",
        "    return round( 1 - statistics.mean(accuracies),2)"
      ]
    },
    {
      "cell_type": "code",
      "execution_count": null,
      "id": "2399e887",
      "metadata": {
        "id": "2399e887"
      },
      "outputs": [],
      "source": [
        "def compareModels1(myModel, myFunction, myParams=[]):\n",
        "    MLA_columns = [\"Nom du modéle\",\"Erreur de classification\"]\n",
        "    MLA_compare = pd.DataFrame(columns = MLA_columns)\n",
        "\n",
        "    row_index = 0\n",
        "    for param in myParams:\n",
        "        \n",
        "        error = myFunction(param)\n",
        "        \n",
        "        MLA_name = myModel+'('+str(param)+') :'\n",
        "        MLA_compare.loc[row_index, 'Nom du modéle'] = MLA_name\n",
        "        \n",
        "                \n",
        "        MLA_compare.loc[row_index, \"Erreur de classification\"] = error\n",
        "\n",
        "        row_index = row_index + 1\n",
        "\n",
        "    MLA_compare.sort_values(by = [\"Erreur de classification\"], ascending = True, inplace = True)\n",
        "    return MLA_compare"
      ]
    },
    {
      "cell_type": "code",
      "execution_count": null,
      "id": "e4c9a6fe",
      "metadata": {
        "id": "e4c9a6fe"
      },
      "outputs": [],
      "source": [
        "MLA_compare = compareModels1(myModel= 'CrossVal KNeighClass', myFunction=myKNeighClass2, myParams=[1,5,10,15,20,25])\n",
        "MLA_compare"
      ]
    },
    {
      "cell_type": "code",
      "execution_count": null,
      "id": "f7303bbe",
      "metadata": {
        "id": "f7303bbe"
      },
      "outputs": [],
      "source": [
        "plt.title(\"MLA\")\n",
        "sns.barplot(x = \"Erreur de classification\", y = \"Nom du modéle\", data = MLA_compare)"
      ]
    },
    {
      "cell_type": "code",
      "execution_count": null,
      "id": "6f3596bb",
      "metadata": {
        "id": "6f3596bb"
      },
      "outputs": [],
      "source": [
        "#10, 15 restent les bons choix"
      ]
    },
    {
      "cell_type": "code",
      "execution_count": null,
      "id": "48c41961",
      "metadata": {
        "id": "48c41961"
      },
      "outputs": [],
      "source": [
        "#K=10\n",
        "model = KNeighborsClassifier(n_neighbors=10)\n",
        "accuracies = cross_val_score(model, X_t, y_t, cv=5)\n",
        "print('L’erreur de classification K= 10 est:', round( 1 - statistics.mean(accuracies),2))"
      ]
    },
    {
      "cell_type": "code",
      "execution_count": null,
      "id": "dea017a2",
      "metadata": {
        "id": "dea017a2"
      },
      "outputs": [],
      "source": [
        "#K=15\n",
        "model = KNeighborsClassifier(n_neighbors=15)\n",
        "accuracies = cross_val_score(model, X_t, y_t, cv=5)\n",
        "print('L’erreur de classification K= 15 est:', round( 1 - statistics.mean(accuracies),2))"
      ]
    },
    {
      "cell_type": "markdown",
      "id": "fe631cf4",
      "metadata": {
        "id": "fe631cf4"
      },
      "source": [
        "## On a deux méthodes qui donnent l'erreur de classification en test la plus faible (0.17).    \n",
        "## Donc, on a le choix entre 2 méthodes:\n",
        "### +KNeighborsClassifier(15) avec cross_val (cv=5)\n",
        "### +KNeighborsClassifier(10) sans cross_val"
      ]
    },
    {
      "cell_type": "code",
      "execution_count": null,
      "id": "a3b6cb2a",
      "metadata": {
        "id": "a3b6cb2a"
      },
      "outputs": [],
      "source": [
        "#exp de matrice de confusion:\n",
        "tn, fp, fn, tp = confusion_matrix([0, 1, 0, 1], [1, 1, 1, 0]).ravel()\n",
        "print(tn, fp, fn, tp)\n",
        "conf_mat = confusion_matrix([0, 1, 0, 1], [1, 1, 1, 0])\n",
        "conf_mat"
      ]
    },
    {
      "cell_type": "markdown",
      "id": "6ad1c4b3",
      "metadata": {
        "id": "6ad1c4b3"
      },
      "source": [
        "### Matrice de confusion\n",
        "\n",
        "#### --------- Predicted class  \n",
        "#### -------------   1 ---   2\n",
        "#### -Actual  1 | TN | FP |\n",
        "#### --Class   2 | FN | TP | \n",
        "\n",
        "-- Négatif: Absence (1)\n",
        "-- Positif: Presence (2) of heart disease\n",
        "\n",
        "Accuracy = (TP+TN) / (TP+TN+FN+FP)\n",
        " \n",
        "Dans notre cas, prédire une absence d’attaque cardiaque lorsqu’en réalité cette attaque cardiaque a lieu => (FN)\n",
        "=>  5 fois plus couteux => FN*5 (Afin de pénaliser).\n",
        "\n",
        "#### Notre nouvelle formule de l'accuracy: Accuracy = (TP+TN) / (TP+TN+FN*5+FP)  \n",
        "    "
      ]
    },
    {
      "cell_type": "code",
      "execution_count": null,
      "id": "46faa8a3",
      "metadata": {
        "id": "46faa8a3"
      },
      "outputs": [],
      "source": [
        "#+KNeighborsClassifier(15) avec cross_val (cv=5)"
      ]
    },
    {
      "cell_type": "code",
      "execution_count": null,
      "id": "2e828693",
      "metadata": {
        "id": "2e828693"
      },
      "outputs": [],
      "source": [
        "X_av, X_t, y_av, y_t = train_test_split(X, Y, test_size=0.3, random_state=42)\n",
        "#Normalisation\n",
        "X_t = pd.DataFrame(std_scaler.fit_transform(X_t), columns=X_t.columns)"
      ]
    },
    {
      "cell_type": "code",
      "execution_count": null,
      "id": "ffde17f6",
      "metadata": {
        "id": "ffde17f6"
      },
      "outputs": [],
      "source": [
        "from sklearn.model_selection import cross_val_predict\n",
        "from sklearn.metrics import confusion_matrix\n",
        "model = KNeighborsClassifier(n_neighbors=15)\n",
        "y_pred = cross_val_predict(model, X_t, y_t, cv=5)\n",
        "\n",
        "tn, fp, fn, tp = confusion_matrix(y_t, y_pred).ravel()\n",
        "print(tn, fp, fn, tp)\n",
        "#Affichage du MC\n",
        "conf_mat = confusion_matrix(y_t, y_pred)\n",
        "conf_mat"
      ]
    },
    {
      "cell_type": "code",
      "execution_count": null,
      "id": "fa80929b",
      "metadata": {
        "id": "fa80929b"
      },
      "outputs": [],
      "source": [
        "my_accuracy = (tn + tp) / (tn + tp + fp + (fn*5))\n",
        "print('L’erreur de classification KNeighborsClassifier(15) avec cross_val (cv=5) est:', round( 1 - my_accuracy,2))"
      ]
    },
    {
      "cell_type": "code",
      "execution_count": null,
      "id": "c1aa14e8",
      "metadata": {
        "id": "c1aa14e8"
      },
      "outputs": [],
      "source": [
        "#+KNeighborsClassifier(10) sans cross_val"
      ]
    },
    {
      "cell_type": "code",
      "execution_count": null,
      "id": "6a45d04d",
      "metadata": {
        "id": "6a45d04d"
      },
      "outputs": [],
      "source": [
        "X_a, X_t, y_a, y_t = train_test_split(X, Y, test_size=0.3, random_state=42)\n",
        "# create a scaler object\n",
        "std_scaler = StandardScaler()\n",
        "X_a = pd.DataFrame(std_scaler.fit_transform(X_a), columns=X_a.columns)\n",
        "X_t = pd.DataFrame(std_scaler.fit_transform(X_t), columns=X_t.columns)"
      ]
    },
    {
      "cell_type": "code",
      "execution_count": null,
      "id": "88257910",
      "metadata": {
        "id": "88257910"
      },
      "outputs": [],
      "source": [
        "model = KNeighborsClassifier(n_neighbors=10)\n",
        "model.fit(X_a, y_a)\n",
        "y_t_pred = model.predict(X_t) \n",
        "\n",
        "tn, fp, fn, tp = confusion_matrix(y_t, y_pred).ravel()\n",
        "print(tn, fp, fn, tp)\n",
        "#Affichage du MC\n",
        "conf_mat = confusion_matrix(y_t, y_pred)\n",
        "conf_mat"
      ]
    },
    {
      "cell_type": "code",
      "execution_count": null,
      "id": "dcfe8ad1",
      "metadata": {
        "id": "dcfe8ad1"
      },
      "outputs": [],
      "source": [
        "my_accuracy = (tn + tp) / (tn + tp + fp + (fn*5))\n",
        "print('L’erreur de classification KNeighborsClassifier(10) sans cross_val est:', round( 1 - my_accuracy,2))"
      ]
    },
    {
      "cell_type": "code",
      "execution_count": null,
      "id": "14d6be4b",
      "metadata": {
        "id": "14d6be4b"
      },
      "outputs": [],
      "source": []
    }
  ],
  "metadata": {
    "colab": {
      "name": "TP1 (1).ipynb",
      "provenance": []
    },
    "kernelspec": {
      "display_name": "Python 3",
      "language": "python",
      "name": "python3"
    },
    "language_info": {
      "codemirror_mode": {
        "name": "ipython",
        "version": 3
      },
      "file_extension": ".py",
      "mimetype": "text/x-python",
      "name": "python",
      "nbconvert_exporter": "python",
      "pygments_lexer": "ipython3",
      "version": "3.8.10"
    }
  },
  "nbformat": 4,
  "nbformat_minor": 5
}
