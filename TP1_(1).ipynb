{
  "nbformat": 4,
  "nbformat_minor": 5,
  "metadata": {
    "colab": {
      "name": "TP1 (1).ipynb",
      "provenance": []
    },
    "kernelspec": {
      "display_name": "Python 3",
      "language": "python",
      "name": "python3"
    },
    "language_info": {
      "codemirror_mode": {
        "name": "ipython",
        "version": 3
      },
      "file_extension": ".py",
      "mimetype": "text/x-python",
      "name": "python",
      "nbconvert_exporter": "python",
      "pygments_lexer": "ipython3",
      "version": "3.8.8"
    }
  },
  "cells": [
    {
      "cell_type": "code",
      "metadata": {
        "id": "b9e2474e"
      },
      "source": [
        "# Chargement et étude rapide du jeu de données\n",
        "import numpy as np\n",
        "import pandas as pd\n",
        "import matplotlib.pyplot as plt\n",
        "import seaborn as sns\n",
        "\n",
        "from sklearn.model_selection import train_test_split\n",
        "from sklearn.neighbors import KNeighborsClassifier\n",
        "from sklearn.metrics import precision_score\n",
        "from sklearn.metrics import accuracy_score\n",
        "from sklearn.metrics import recall_score\n",
        "from sklearn.metrics import roc_auc_score\n",
        "\n",
        "from sklearn.preprocessing import StandardScaler\n",
        "\n",
        "from sklearn.model_selection import cross_val_score\n",
        "import statistics\n",
        "\n",
        "from sklearn.metrics import confusion_matrix"
      ],
      "id": "b9e2474e",
      "execution_count": null,
      "outputs": []
    },
    {
      "cell_type": "code",
      "metadata": {
        "id": "ab2f5a55"
      },
      "source": [
        "import warnings\n",
        "warnings.filterwarnings('ignore')"
      ],
      "id": "ab2f5a55",
      "execution_count": null,
      "outputs": []
    },
    {
      "cell_type": "code",
      "metadata": {
        "colab": {
          "background_save": true,
          "base_uri": "https://localhost:8080/",
          "height": 387
        },
        "id": "8b8dc27a",
        "outputId": "8fbb252f-3b1f-4b93-9bdc-e9ba5fceb901"
      },
      "source": [
        "data = pd.read_table(\"heart.dat\", sep=\"\\s+\", header=None)\n",
        "data"
      ],
      "id": "8b8dc27a",
      "execution_count": null,
      "outputs": [
        {
          "ename": "FileNotFoundError",
          "evalue": "ignored",
          "output_type": "error",
          "traceback": [
            "\u001b[0;31m---------------------------------------------------------------------------\u001b[0m",
            "\u001b[0;31mFileNotFoundError\u001b[0m                         Traceback (most recent call last)",
            "\u001b[0;32m<ipython-input-4-deb2b29d4293>\u001b[0m in \u001b[0;36m<module>\u001b[0;34m()\u001b[0m\n\u001b[0;32m----> 1\u001b[0;31m \u001b[0mdata\u001b[0m \u001b[0;34m=\u001b[0m \u001b[0mpd\u001b[0m\u001b[0;34m.\u001b[0m\u001b[0mread_table\u001b[0m\u001b[0;34m(\u001b[0m\u001b[0;34m\"heart.dat\"\u001b[0m\u001b[0;34m,\u001b[0m \u001b[0msep\u001b[0m\u001b[0;34m=\u001b[0m\u001b[0;34m\"\\s+\"\u001b[0m\u001b[0;34m,\u001b[0m \u001b[0mheader\u001b[0m\u001b[0;34m=\u001b[0m\u001b[0;32mNone\u001b[0m\u001b[0;34m)\u001b[0m\u001b[0;34m\u001b[0m\u001b[0;34m\u001b[0m\u001b[0m\n\u001b[0m\u001b[1;32m      2\u001b[0m \u001b[0mdata\u001b[0m\u001b[0;34m\u001b[0m\u001b[0;34m\u001b[0m\u001b[0m\n",
            "\u001b[0;32m/usr/local/lib/python3.7/dist-packages/pandas/io/parsers.py\u001b[0m in \u001b[0;36mread_table\u001b[0;34m(filepath_or_buffer, sep, delimiter, header, names, index_col, usecols, squeeze, prefix, mangle_dupe_cols, dtype, engine, converters, true_values, false_values, skipinitialspace, skiprows, skipfooter, nrows, na_values, keep_default_na, na_filter, verbose, skip_blank_lines, parse_dates, infer_datetime_format, keep_date_col, date_parser, dayfirst, cache_dates, iterator, chunksize, compression, thousands, decimal, lineterminator, quotechar, quoting, doublequote, escapechar, comment, encoding, dialect, error_bad_lines, warn_bad_lines, delim_whitespace, low_memory, memory_map, float_precision)\u001b[0m\n\u001b[1;32m    765\u001b[0m         \u001b[0;31m# default to avoid a ValueError\u001b[0m\u001b[0;34m\u001b[0m\u001b[0;34m\u001b[0m\u001b[0;34m\u001b[0m\u001b[0m\n\u001b[1;32m    766\u001b[0m         \u001b[0msep\u001b[0m \u001b[0;34m=\u001b[0m \u001b[0;34m\",\"\u001b[0m\u001b[0;34m\u001b[0m\u001b[0;34m\u001b[0m\u001b[0m\n\u001b[0;32m--> 767\u001b[0;31m     \u001b[0;32mreturn\u001b[0m \u001b[0mread_csv\u001b[0m\u001b[0;34m(\u001b[0m\u001b[0;34m**\u001b[0m\u001b[0mlocals\u001b[0m\u001b[0;34m(\u001b[0m\u001b[0;34m)\u001b[0m\u001b[0;34m)\u001b[0m\u001b[0;34m\u001b[0m\u001b[0;34m\u001b[0m\u001b[0m\n\u001b[0m\u001b[1;32m    768\u001b[0m \u001b[0;34m\u001b[0m\u001b[0m\n\u001b[1;32m    769\u001b[0m \u001b[0;34m\u001b[0m\u001b[0m\n",
            "\u001b[0;32m/usr/local/lib/python3.7/dist-packages/pandas/io/parsers.py\u001b[0m in \u001b[0;36mread_csv\u001b[0;34m(filepath_or_buffer, sep, delimiter, header, names, index_col, usecols, squeeze, prefix, mangle_dupe_cols, dtype, engine, converters, true_values, false_values, skipinitialspace, skiprows, skipfooter, nrows, na_values, keep_default_na, na_filter, verbose, skip_blank_lines, parse_dates, infer_datetime_format, keep_date_col, date_parser, dayfirst, cache_dates, iterator, chunksize, compression, thousands, decimal, lineterminator, quotechar, quoting, doublequote, escapechar, comment, encoding, dialect, error_bad_lines, warn_bad_lines, delim_whitespace, low_memory, memory_map, float_precision)\u001b[0m\n\u001b[1;32m    686\u001b[0m     )\n\u001b[1;32m    687\u001b[0m \u001b[0;34m\u001b[0m\u001b[0m\n\u001b[0;32m--> 688\u001b[0;31m     \u001b[0;32mreturn\u001b[0m \u001b[0m_read\u001b[0m\u001b[0;34m(\u001b[0m\u001b[0mfilepath_or_buffer\u001b[0m\u001b[0;34m,\u001b[0m \u001b[0mkwds\u001b[0m\u001b[0;34m)\u001b[0m\u001b[0;34m\u001b[0m\u001b[0;34m\u001b[0m\u001b[0m\n\u001b[0m\u001b[1;32m    689\u001b[0m \u001b[0;34m\u001b[0m\u001b[0m\n\u001b[1;32m    690\u001b[0m \u001b[0;34m\u001b[0m\u001b[0m\n",
            "\u001b[0;32m/usr/local/lib/python3.7/dist-packages/pandas/io/parsers.py\u001b[0m in \u001b[0;36m_read\u001b[0;34m(filepath_or_buffer, kwds)\u001b[0m\n\u001b[1;32m    452\u001b[0m \u001b[0;34m\u001b[0m\u001b[0m\n\u001b[1;32m    453\u001b[0m     \u001b[0;31m# Create the parser.\u001b[0m\u001b[0;34m\u001b[0m\u001b[0;34m\u001b[0m\u001b[0;34m\u001b[0m\u001b[0m\n\u001b[0;32m--> 454\u001b[0;31m     \u001b[0mparser\u001b[0m \u001b[0;34m=\u001b[0m \u001b[0mTextFileReader\u001b[0m\u001b[0;34m(\u001b[0m\u001b[0mfp_or_buf\u001b[0m\u001b[0;34m,\u001b[0m \u001b[0;34m**\u001b[0m\u001b[0mkwds\u001b[0m\u001b[0;34m)\u001b[0m\u001b[0;34m\u001b[0m\u001b[0;34m\u001b[0m\u001b[0m\n\u001b[0m\u001b[1;32m    455\u001b[0m \u001b[0;34m\u001b[0m\u001b[0m\n\u001b[1;32m    456\u001b[0m     \u001b[0;32mif\u001b[0m \u001b[0mchunksize\u001b[0m \u001b[0;32mor\u001b[0m \u001b[0miterator\u001b[0m\u001b[0;34m:\u001b[0m\u001b[0;34m\u001b[0m\u001b[0;34m\u001b[0m\u001b[0m\n",
            "\u001b[0;32m/usr/local/lib/python3.7/dist-packages/pandas/io/parsers.py\u001b[0m in \u001b[0;36m__init__\u001b[0;34m(self, f, engine, **kwds)\u001b[0m\n\u001b[1;32m    946\u001b[0m             \u001b[0mself\u001b[0m\u001b[0;34m.\u001b[0m\u001b[0moptions\u001b[0m\u001b[0;34m[\u001b[0m\u001b[0;34m\"has_index_names\"\u001b[0m\u001b[0;34m]\u001b[0m \u001b[0;34m=\u001b[0m \u001b[0mkwds\u001b[0m\u001b[0;34m[\u001b[0m\u001b[0;34m\"has_index_names\"\u001b[0m\u001b[0;34m]\u001b[0m\u001b[0;34m\u001b[0m\u001b[0;34m\u001b[0m\u001b[0m\n\u001b[1;32m    947\u001b[0m \u001b[0;34m\u001b[0m\u001b[0m\n\u001b[0;32m--> 948\u001b[0;31m         \u001b[0mself\u001b[0m\u001b[0;34m.\u001b[0m\u001b[0m_make_engine\u001b[0m\u001b[0;34m(\u001b[0m\u001b[0mself\u001b[0m\u001b[0;34m.\u001b[0m\u001b[0mengine\u001b[0m\u001b[0;34m)\u001b[0m\u001b[0;34m\u001b[0m\u001b[0;34m\u001b[0m\u001b[0m\n\u001b[0m\u001b[1;32m    949\u001b[0m \u001b[0;34m\u001b[0m\u001b[0m\n\u001b[1;32m    950\u001b[0m     \u001b[0;32mdef\u001b[0m \u001b[0mclose\u001b[0m\u001b[0;34m(\u001b[0m\u001b[0mself\u001b[0m\u001b[0;34m)\u001b[0m\u001b[0;34m:\u001b[0m\u001b[0;34m\u001b[0m\u001b[0;34m\u001b[0m\u001b[0m\n",
            "\u001b[0;32m/usr/local/lib/python3.7/dist-packages/pandas/io/parsers.py\u001b[0m in \u001b[0;36m_make_engine\u001b[0;34m(self, engine)\u001b[0m\n\u001b[1;32m   1178\u001b[0m     \u001b[0;32mdef\u001b[0m \u001b[0m_make_engine\u001b[0m\u001b[0;34m(\u001b[0m\u001b[0mself\u001b[0m\u001b[0;34m,\u001b[0m \u001b[0mengine\u001b[0m\u001b[0;34m=\u001b[0m\u001b[0;34m\"c\"\u001b[0m\u001b[0;34m)\u001b[0m\u001b[0;34m:\u001b[0m\u001b[0;34m\u001b[0m\u001b[0;34m\u001b[0m\u001b[0m\n\u001b[1;32m   1179\u001b[0m         \u001b[0;32mif\u001b[0m \u001b[0mengine\u001b[0m \u001b[0;34m==\u001b[0m \u001b[0;34m\"c\"\u001b[0m\u001b[0;34m:\u001b[0m\u001b[0;34m\u001b[0m\u001b[0;34m\u001b[0m\u001b[0m\n\u001b[0;32m-> 1180\u001b[0;31m             \u001b[0mself\u001b[0m\u001b[0;34m.\u001b[0m\u001b[0m_engine\u001b[0m \u001b[0;34m=\u001b[0m \u001b[0mCParserWrapper\u001b[0m\u001b[0;34m(\u001b[0m\u001b[0mself\u001b[0m\u001b[0;34m.\u001b[0m\u001b[0mf\u001b[0m\u001b[0;34m,\u001b[0m \u001b[0;34m**\u001b[0m\u001b[0mself\u001b[0m\u001b[0;34m.\u001b[0m\u001b[0moptions\u001b[0m\u001b[0;34m)\u001b[0m\u001b[0;34m\u001b[0m\u001b[0;34m\u001b[0m\u001b[0m\n\u001b[0m\u001b[1;32m   1181\u001b[0m         \u001b[0;32melse\u001b[0m\u001b[0;34m:\u001b[0m\u001b[0;34m\u001b[0m\u001b[0;34m\u001b[0m\u001b[0m\n\u001b[1;32m   1182\u001b[0m             \u001b[0;32mif\u001b[0m \u001b[0mengine\u001b[0m \u001b[0;34m==\u001b[0m \u001b[0;34m\"python\"\u001b[0m\u001b[0;34m:\u001b[0m\u001b[0;34m\u001b[0m\u001b[0;34m\u001b[0m\u001b[0m\n",
            "\u001b[0;32m/usr/local/lib/python3.7/dist-packages/pandas/io/parsers.py\u001b[0m in \u001b[0;36m__init__\u001b[0;34m(self, src, **kwds)\u001b[0m\n\u001b[1;32m   2008\u001b[0m         \u001b[0mkwds\u001b[0m\u001b[0;34m[\u001b[0m\u001b[0;34m\"usecols\"\u001b[0m\u001b[0;34m]\u001b[0m \u001b[0;34m=\u001b[0m \u001b[0mself\u001b[0m\u001b[0;34m.\u001b[0m\u001b[0musecols\u001b[0m\u001b[0;34m\u001b[0m\u001b[0;34m\u001b[0m\u001b[0m\n\u001b[1;32m   2009\u001b[0m \u001b[0;34m\u001b[0m\u001b[0m\n\u001b[0;32m-> 2010\u001b[0;31m         \u001b[0mself\u001b[0m\u001b[0;34m.\u001b[0m\u001b[0m_reader\u001b[0m \u001b[0;34m=\u001b[0m \u001b[0mparsers\u001b[0m\u001b[0;34m.\u001b[0m\u001b[0mTextReader\u001b[0m\u001b[0;34m(\u001b[0m\u001b[0msrc\u001b[0m\u001b[0;34m,\u001b[0m \u001b[0;34m**\u001b[0m\u001b[0mkwds\u001b[0m\u001b[0;34m)\u001b[0m\u001b[0;34m\u001b[0m\u001b[0;34m\u001b[0m\u001b[0m\n\u001b[0m\u001b[1;32m   2011\u001b[0m         \u001b[0mself\u001b[0m\u001b[0;34m.\u001b[0m\u001b[0munnamed_cols\u001b[0m \u001b[0;34m=\u001b[0m \u001b[0mself\u001b[0m\u001b[0;34m.\u001b[0m\u001b[0m_reader\u001b[0m\u001b[0;34m.\u001b[0m\u001b[0munnamed_cols\u001b[0m\u001b[0;34m\u001b[0m\u001b[0;34m\u001b[0m\u001b[0m\n\u001b[1;32m   2012\u001b[0m \u001b[0;34m\u001b[0m\u001b[0m\n",
            "\u001b[0;32mpandas/_libs/parsers.pyx\u001b[0m in \u001b[0;36mpandas._libs.parsers.TextReader.__cinit__\u001b[0;34m()\u001b[0m\n",
            "\u001b[0;32mpandas/_libs/parsers.pyx\u001b[0m in \u001b[0;36mpandas._libs.parsers.TextReader._setup_parser_source\u001b[0;34m()\u001b[0m\n",
            "\u001b[0;31mFileNotFoundError\u001b[0m: [Errno 2] No such file or directory: 'heart.dat'"
          ]
        }
      ]
    },
    {
      "cell_type": "markdown",
      "metadata": {
        "id": "c5c9946f"
      },
      "source": [
        "Attribute Information:\n",
        "------------------------\n",
        "      -- 1. age       \n",
        "      -- 2. sex       \n",
        "      -- 3. chest pain type  (4 values)       \n",
        "      -- 4. resting blood pressure  \n",
        "      -- 5. serum cholestoral in mg/dl      \n",
        "      -- 6. fasting blood sugar > 120 mg/dl       \n",
        "      -- 7. resting electrocardiographic results  (values 0,1,2) \n",
        "      -- 8. maximum heart rate achieved  \n",
        "      -- 9. exercise induced angina    \n",
        "      -- 10. oldpeak = ST depression induced by exercise relative to rest   \n",
        "      -- 11. the slope of the peak exercise ST segment     \n",
        "      -- 12. number of major vessels (0-3) colored by flourosopy        \n",
        "      -- 13.  thal: 3 = normal; 6 = fixed defect; 7 = reversable defect     \n",
        "-- Absence (1), or presence (2) of heart disease"
      ],
      "id": "c5c9946f"
    },
    {
      "cell_type": "code",
      "metadata": {
        "id": "eeb1ec3a"
      },
      "source": [
        "# Renommer les colonnes et regarder les données manquantes (il n'y en a pas)\n",
        "data.columns = ['age','sex','chest_pain_type','resting_blood_pressure','serum_cholestoral','fasting_blood_sugar',\n",
        "'resting_electrocardiographic_results','maximum_heart_rate_achieved','exercise_induced_angina','oldpeak',\n",
        "'slope','number_of_major_vessels','thal','label']\n",
        "data.isnull().sum()"
      ],
      "id": "eeb1ec3a",
      "execution_count": null,
      "outputs": []
    },
    {
      "cell_type": "code",
      "metadata": {
        "id": "70c91318"
      },
      "source": [
        "print(data.shape)\n",
        "data"
      ],
      "id": "70c91318",
      "execution_count": null,
      "outputs": []
    },
    {
      "cell_type": "code",
      "metadata": {
        "id": "833412d4"
      },
      "source": [
        "# Répartition graphique des réponses\n",
        "print(data.label.value_counts())\n",
        "sns.countplot(y=\"label\", data=data)"
      ],
      "id": "833412d4",
      "execution_count": null,
      "outputs": []
    },
    {
      "cell_type": "code",
      "metadata": {
        "id": "a1ab81c1",
        "scrolled": true
      },
      "source": [
        "# Répartition graphique des exemples sur un tableau récapitulatif de qlq variables\n",
        "plt.figure(figsize=(25,5))\n",
        "plt.subplot(1,4,1)\n",
        "sns.boxplot(x='label',y='age',data=data)\n",
        "plt.subplot(1,4,2)\n",
        "sns.boxplot(x='label',y='resting_blood_pressure',data=data)\n",
        "plt.subplot(1,4,3)\n",
        "sns.boxplot(x='label',y='serum_cholestoral',data=data)\n",
        "plt.subplot(1,4,4)\n",
        "sns.boxplot(x='label',y='maximum_heart_rate_achieved',data=data)"
      ],
      "id": "a1ab81c1",
      "execution_count": null,
      "outputs": []
    },
    {
      "cell_type": "code",
      "metadata": {
        "id": "65da882f"
      },
      "source": [
        "# Matrice de corrélations\n",
        "data_corr = data.corr()\n",
        "\n",
        "# masque triangulaire\n",
        "mask = np.triu(np.ones_like(data_corr, dtype=bool))\n",
        "\n",
        "# matplolib setup\n",
        "f, ax = plt.subplots(figsize=(11, 9))\n",
        "\n",
        "# matrice de corrélation avec masque trinagulaire inférieur\n",
        "sns.heatmap(data_corr, mask=mask, cmap = 'mako', center=0, square=True)"
      ],
      "id": "65da882f",
      "execution_count": null,
      "outputs": []
    },
    {
      "cell_type": "code",
      "metadata": {
        "id": "7d668c47"
      },
      "source": [
        "X = data[data.columns[:-1]]\n",
        "X"
      ],
      "id": "7d668c47",
      "execution_count": null,
      "outputs": []
    },
    {
      "cell_type": "code",
      "metadata": {
        "id": "04d0db87"
      },
      "source": [
        "Y = data[data.columns[-1:]]\n",
        "Y"
      ],
      "id": "04d0db87",
      "execution_count": null,
      "outputs": []
    },
    {
      "cell_type": "markdown",
      "metadata": {
        "id": "a60561f9"
      },
      "source": [
        "## Stratégie 1 : ensemble d’apprentissage, de validation et de test. "
      ],
      "id": "a60561f9"
    },
    {
      "cell_type": "code",
      "metadata": {
        "id": "c7ea0709"
      },
      "source": [
        "X_av, X_t, y_av, y_t = train_test_split(X, Y, test_size=0.3, random_state=42)\n",
        "X_a, X_v, y_a, y_v = train_test_split(X_av, y_av, test_size=0.33, random_state=42)\n",
        "X_a.shape"
      ],
      "id": "c7ea0709",
      "execution_count": null,
      "outputs": []
    },
    {
      "cell_type": "code",
      "metadata": {
        "id": "3b4bfe9a"
      },
      "source": [
        "# create a scaler object\n",
        "std_scaler = StandardScaler()\n",
        "#Normalize\n",
        "X_a = pd.DataFrame(std_scaler.fit_transform(X_a), columns=X_a.columns)\n",
        "X_v = pd.DataFrame(std_scaler.fit_transform(X_v), columns=X_v.columns)\n",
        "X_t = pd.DataFrame(std_scaler.fit_transform(X_t), columns=X_t.columns)\n",
        "X_t"
      ],
      "id": "3b4bfe9a",
      "execution_count": null,
      "outputs": []
    },
    {
      "cell_type": "code",
      "metadata": {
        "id": "2fe5db50"
      },
      "source": [
        "X_a.iloc[:,[0,3,4,7,9,11]]"
      ],
      "id": "2fe5db50",
      "execution_count": null,
      "outputs": []
    },
    {
      "cell_type": "code",
      "metadata": {
        "id": "3576712f"
      },
      "source": [
        "#k = {1, 5, 10, 15, 20, 25}\n",
        "def myKNeighClass1(K=1):\n",
        "    model = KNeighborsClassifier(n_neighbors=K)\n",
        "    model.fit(X_a, y_a)\n",
        "    y_a_pred = model.predict(X_a)    \n",
        "    #print('L’erreur de classification á l\\'apprentissage:', round( 1 - accuracy_score(y_a, y_a_pred),2) )\n",
        "    y_v_pred = model.predict(X_v)\n",
        "    #print('L’erreur de classification á la validation:', round( 1 - accuracy_score(y_v, y_v_pred),2) )\n",
        "    return [round( 1 - accuracy_score(y_a, y_a_pred),2), round( 1 - accuracy_score(y_v, y_v_pred),2)]"
      ],
      "id": "3576712f",
      "execution_count": null,
      "outputs": []
    },
    {
      "cell_type": "code",
      "metadata": {
        "id": "3d6d9683"
      },
      "source": [
        "def compareModels(myModel, myFunction, myParams=[]):\n",
        "    MLA_columns = [\"Nom du modéle\",\"Erreur de classification en apprentissage\",\"Erreur de classification en validation\"]\n",
        "    MLA_compare = pd.DataFrame(columns = MLA_columns)\n",
        "\n",
        "    row_index = 0\n",
        "    for pram in myParams:\n",
        "        \n",
        "        errors = myFunction(pram)\n",
        "        \n",
        "        MLA_name = myModel+'('+str(pram)+') :'\n",
        "        MLA_compare.loc[row_index, 'Nom du modéle'] = MLA_name\n",
        "        \n",
        "                \n",
        "        MLA_compare.loc[row_index, \"Erreur de classification en apprentissage\"] = errors[0]\n",
        "        MLA_compare.loc[row_index, \"Erreur de classification en validation\"] = errors[1]\n",
        "\n",
        "        row_index = row_index + 1\n",
        "\n",
        "    MLA_compare.sort_values(by = [\"Erreur de classification en validation\"], ascending = True, inplace = True)\n",
        "    return MLA_compare"
      ],
      "id": "3d6d9683",
      "execution_count": null,
      "outputs": []
    },
    {
      "cell_type": "code",
      "metadata": {
        "id": "a7d53872"
      },
      "source": [
        "MLA_compare = compareModels(myModel= 'KNeighClass', myFunction=myKNeighClass1, myParams=[1,5,10,15,20,25])\n",
        "MLA_compare"
      ],
      "id": "a7d53872",
      "execution_count": null,
      "outputs": []
    },
    {
      "cell_type": "code",
      "metadata": {
        "id": "4b302a40"
      },
      "source": [
        "plt.title(\"MLA\")\n",
        "sns.barplot(x = \"Erreur de classification en validation\", y = \"Nom du modéle\", data = MLA_compare)"
      ],
      "id": "4b302a40",
      "execution_count": null,
      "outputs": []
    },
    {
      "cell_type": "code",
      "metadata": {
        "id": "85327fdc"
      },
      "source": [
        "plt.title(\"MLA\")\n",
        "sns.barplot(x = \"Erreur de classification en apprentissage\", y = \"Erreur de classification en validation\", hue =\"Nom du modéle\", data = MLA_compare)"
      ],
      "id": "85327fdc",
      "execution_count": null,
      "outputs": []
    },
    {
      "cell_type": "code",
      "metadata": {
        "id": "e6e850c9"
      },
      "source": [
        "#K=10 est le meilleur paramètre, car il présente l'erreur de validation la plus faible."
      ],
      "id": "e6e850c9",
      "execution_count": null,
      "outputs": []
    },
    {
      "cell_type": "code",
      "metadata": {
        "id": "66f88108"
      },
      "source": [
        "model = KNeighborsClassifier(n_neighbors=10)\n",
        "model.fit(X_a, y_a)\n",
        "y_t_pred = model.predict(X_t)   \n",
        "print('L’erreur de classification au test:', round( 1 - accuracy_score(y_t, y_t_pred),2) )"
      ],
      "id": "66f88108",
      "execution_count": null,
      "outputs": []
    },
    {
      "cell_type": "markdown",
      "metadata": {
        "id": "8a531b7f"
      },
      "source": [
        "## Stratégie 2 : validation-croisée pour la sélection de k"
      ],
      "id": "8a531b7f"
    },
    {
      "cell_type": "code",
      "metadata": {
        "id": "8a395048"
      },
      "source": [
        "X_av, X_t, y_av, y_t = train_test_split(X, Y, test_size=0.3, random_state=42)\n",
        "#Normalisation\n",
        "std_scaler = StandardScaler()\n",
        "X_av = pd.DataFrame(std_scaler.fit_transform(X_av), columns=X_av.columns)\n",
        "X_t = pd.DataFrame(std_scaler.fit_transform(X_t), columns=X_t.columns)\n",
        "X_av.shape"
      ],
      "id": "8a395048",
      "execution_count": null,
      "outputs": []
    },
    {
      "cell_type": "code",
      "metadata": {
        "id": "1ececea4"
      },
      "source": [
        "#k = {1, 5, 10, 15, 20, 25}\n",
        "def myKNeighClass2(K=1):\n",
        "    model = KNeighborsClassifier(n_neighbors=K)\n",
        "    accuracies = cross_val_score(model, X_av, y_av, cv=5)\n",
        "    #print('L’erreur de classification est:', round( 1 - statistics.mean(accuracies),2))\n",
        "    return round( 1 - statistics.mean(accuracies),2)"
      ],
      "id": "1ececea4",
      "execution_count": null,
      "outputs": []
    },
    {
      "cell_type": "code",
      "metadata": {
        "id": "2399e887"
      },
      "source": [
        "def compareModels1(myModel, myFunction, myParams=[]):\n",
        "    MLA_columns = [\"Nom du modéle\",\"Erreur de classification\"]\n",
        "    MLA_compare = pd.DataFrame(columns = MLA_columns)\n",
        "\n",
        "    row_index = 0\n",
        "    for param in myParams:\n",
        "        \n",
        "        error = myFunction(param)\n",
        "        \n",
        "        MLA_name = myModel+'('+str(param)+') :'\n",
        "        MLA_compare.loc[row_index, 'Nom du modéle'] = MLA_name\n",
        "        \n",
        "                \n",
        "        MLA_compare.loc[row_index, \"Erreur de classification\"] = error\n",
        "\n",
        "        row_index = row_index + 1\n",
        "\n",
        "    MLA_compare.sort_values(by = [\"Erreur de classification\"], ascending = True, inplace = True)\n",
        "    return MLA_compare"
      ],
      "id": "2399e887",
      "execution_count": null,
      "outputs": []
    },
    {
      "cell_type": "code",
      "metadata": {
        "id": "e4c9a6fe"
      },
      "source": [
        "MLA_compare = compareModels1(myModel= 'CrossVal KNeighClass', myFunction=myKNeighClass2, myParams=[1,5,10,15,20,25])\n",
        "MLA_compare"
      ],
      "id": "e4c9a6fe",
      "execution_count": null,
      "outputs": []
    },
    {
      "cell_type": "code",
      "metadata": {
        "id": "f7303bbe"
      },
      "source": [
        "plt.title(\"MLA\")\n",
        "sns.barplot(x = \"Erreur de classification\", y = \"Nom du modéle\", data = MLA_compare)"
      ],
      "id": "f7303bbe",
      "execution_count": null,
      "outputs": []
    },
    {
      "cell_type": "code",
      "metadata": {
        "id": "6f3596bb"
      },
      "source": [
        "#10, 15 restent les bons choix"
      ],
      "id": "6f3596bb",
      "execution_count": null,
      "outputs": []
    },
    {
      "cell_type": "code",
      "metadata": {
        "id": "48c41961"
      },
      "source": [
        "#K=10\n",
        "model = KNeighborsClassifier(n_neighbors=10)\n",
        "accuracies = cross_val_score(model, X_t, y_t, cv=5)\n",
        "print('L’erreur de classification K= 10 est:', round( 1 - statistics.mean(accuracies),2))"
      ],
      "id": "48c41961",
      "execution_count": null,
      "outputs": []
    },
    {
      "cell_type": "code",
      "metadata": {
        "id": "dea017a2"
      },
      "source": [
        "#K=15\n",
        "model = KNeighborsClassifier(n_neighbors=15)\n",
        "accuracies = cross_val_score(model, X_t, y_t, cv=5)\n",
        "print('L’erreur de classification K= 15 est:', round( 1 - statistics.mean(accuracies),2))"
      ],
      "id": "dea017a2",
      "execution_count": null,
      "outputs": []
    },
    {
      "cell_type": "markdown",
      "metadata": {
        "id": "fe631cf4"
      },
      "source": [
        "## On a deux méthodes qui donnent l'erreur de classification en test la plus faible (0.17).    \n",
        "## Donc, on a le choix entre 2 méthodes:\n",
        "### +KNeighborsClassifier(15) avec cross_val (cv=5)\n",
        "### +KNeighborsClassifier(10) sans cross_val"
      ],
      "id": "fe631cf4"
    },
    {
      "cell_type": "code",
      "metadata": {
        "id": "a3b6cb2a"
      },
      "source": [
        "#exp de matrice de confusion:\n",
        "tn, fp, fn, tp = confusion_matrix([0, 1, 0, 1], [1, 1, 1, 0]).ravel()\n",
        "print(tn, fp, fn, tp)\n",
        "conf_mat = confusion_matrix([0, 1, 0, 1], [1, 1, 1, 0])\n",
        "conf_mat"
      ],
      "id": "a3b6cb2a",
      "execution_count": null,
      "outputs": []
    },
    {
      "cell_type": "markdown",
      "metadata": {
        "id": "6ad1c4b3"
      },
      "source": [
        "### Matrice de confusion\n",
        "\n",
        "#### --------- Predicted class  \n",
        "#### -------------   1 ---   2\n",
        "#### -Actual  1 | TN | FP |\n",
        "#### --Class   2 | FN | TP | \n",
        "\n",
        "-- Négatif: Absence (1)\n",
        "-- Positif: Presence (2) of heart disease\n",
        "\n",
        "Accuracy = (TP+TN) / (TP+TN+FN+FP)\n",
        " \n",
        "Dans notre cas, prédire une absence d’attaque cardiaque lorsqu’en réalité cette attaque cardiaque a lieu => (FN)\n",
        "=>  5 fois plus couteux => FN*5 (Afin de pénaliser).\n",
        "\n",
        "#### Notre nouvelle formule de l'accuracy: Accuracy = (TP+TN) / (TP+TN+FN*5+FP)  \n",
        "    "
      ],
      "id": "6ad1c4b3"
    },
    {
      "cell_type": "code",
      "metadata": {
        "id": "46faa8a3"
      },
      "source": [
        "#+KNeighborsClassifier(15) avec cross_val (cv=5)"
      ],
      "id": "46faa8a3",
      "execution_count": null,
      "outputs": []
    },
    {
      "cell_type": "code",
      "metadata": {
        "id": "2e828693"
      },
      "source": [
        "X_av, X_t, y_av, y_t = train_test_split(X, Y, test_size=0.3, random_state=42)\n",
        "#Normalisation\n",
        "X_t = pd.DataFrame(std_scaler.fit_transform(X_t), columns=X_t.columns)"
      ],
      "id": "2e828693",
      "execution_count": null,
      "outputs": []
    },
    {
      "cell_type": "code",
      "metadata": {
        "id": "ffde17f6"
      },
      "source": [
        "from sklearn.model_selection import cross_val_predict\n",
        "from sklearn.metrics import confusion_matrix\n",
        "model = KNeighborsClassifier(n_neighbors=15)\n",
        "y_pred = cross_val_predict(model, X_t, y_t, cv=5)\n",
        "\n",
        "tn, fp, fn, tp = confusion_matrix(y_t, y_pred).ravel()\n",
        "print(tn, fp, fn, tp)\n",
        "#Affichage du MC\n",
        "conf_mat = confusion_matrix(y_t, y_pred)\n",
        "conf_mat"
      ],
      "id": "ffde17f6",
      "execution_count": null,
      "outputs": []
    },
    {
      "cell_type": "code",
      "metadata": {
        "id": "fa80929b"
      },
      "source": [
        "my_accuracy = (tn + tp) / (tn + tp + fp + (fn*5))\n",
        "print('L’erreur de classification KNeighborsClassifier(15) avec cross_val (cv=5) est:', round( 1 - my_accuracy,2))"
      ],
      "id": "fa80929b",
      "execution_count": null,
      "outputs": []
    },
    {
      "cell_type": "code",
      "metadata": {
        "id": "c1aa14e8"
      },
      "source": [
        "#+KNeighborsClassifier(10) sans cross_val"
      ],
      "id": "c1aa14e8",
      "execution_count": null,
      "outputs": []
    },
    {
      "cell_type": "code",
      "metadata": {
        "id": "6a45d04d"
      },
      "source": [
        "X_a, X_t, y_a, y_t = train_test_split(X, Y, test_size=0.3, random_state=42)\n",
        "# create a scaler object\n",
        "std_scaler = StandardScaler()\n",
        "X_a = pd.DataFrame(std_scaler.fit_transform(X_a), columns=X_a.columns)\n",
        "X_t = pd.DataFrame(std_scaler.fit_transform(X_t), columns=X_t.columns)"
      ],
      "id": "6a45d04d",
      "execution_count": null,
      "outputs": []
    },
    {
      "cell_type": "code",
      "metadata": {
        "id": "88257910"
      },
      "source": [
        "model = KNeighborsClassifier(n_neighbors=10)\n",
        "model.fit(X_a, y_a)\n",
        "y_t_pred = model.predict(X_t) \n",
        "\n",
        "tn, fp, fn, tp = confusion_matrix(y_t, y_pred).ravel()\n",
        "print(tn, fp, fn, tp)\n",
        "#Affichage du MC\n",
        "conf_mat = confusion_matrix(y_t, y_pred)\n",
        "conf_mat"
      ],
      "id": "88257910",
      "execution_count": null,
      "outputs": []
    },
    {
      "cell_type": "code",
      "metadata": {
        "id": "dcfe8ad1"
      },
      "source": [
        "my_accuracy = (tn + tp) / (tn + tp + fp + (fn*5))\n",
        "print('L’erreur de classification KNeighborsClassifier(10) sans cross_val est:', round( 1 - my_accuracy,2))"
      ],
      "id": "dcfe8ad1",
      "execution_count": null,
      "outputs": []
    },
    {
      "cell_type": "code",
      "metadata": {
        "id": "14d6be4b"
      },
      "source": [
        ""
      ],
      "id": "14d6be4b",
      "execution_count": null,
      "outputs": []
    }
  ]
}